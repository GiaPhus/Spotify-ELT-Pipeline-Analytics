{
 "cells": [
  {
   "cell_type": "code",
   "execution_count": 1,
   "id": "35ca81f0-b612-48fd-84fb-d95838bdd450",
   "metadata": {},
   "outputs": [],
   "source": [
    "from pyspark.sql import SparkSession\n",
    "from pyspark.sql.functions import col,explode\n",
    "from pyspark.sql.functions import regexp_replace\n",
    "from pyspark.sql.types import StringType\n",
    "from pyspark.sql.functions import split, explode, trim\n"
   ]
  },
  {
   "cell_type": "code",
   "execution_count": 2,
   "id": "882b88ff-a091-4bc3-93e5-634ed318c79f",
   "metadata": {},
   "outputs": [],
   "source": [
    "hdfs_uri = \"hdfs://namenode:8020/silver_layer/silver_artists_genres.parquet\"\n",
    "spark = SparkSession.builder.appName(\"Check Genres\").getOrCreate()"
   ]
  },
  {
   "cell_type": "code",
   "execution_count": 3,
   "id": "d52dc642-9b49-478d-bc9f-4dd7b76011c3",
   "metadata": {},
   "outputs": [],
   "source": [
    "df_genres = spark.read.parquet(hdfs_uri)"
   ]
  },
  {
   "cell_type": "code",
   "execution_count": 4,
   "id": "a729093b-6a20-4159-81ab-157631aad124",
   "metadata": {
    "scrolled": true
   },
   "outputs": [
    {
     "name": "stdout",
     "output_type": "stream",
     "text": [
      "root\n",
      " |-- artist_id: string (nullable = true)\n",
      " |-- artist: string (nullable = true)\n",
      " |-- genre: string (nullable = true)\n",
      "\n"
     ]
    }
   ],
   "source": [
    "df_genres.printSchema()"
   ]
  },
  {
   "cell_type": "code",
   "execution_count": 5,
   "id": "85d52859-7a37-427b-97c3-655fc7667f7b",
   "metadata": {},
   "outputs": [
    {
     "data": {
      "text/plain": [
       "5459"
      ]
     },
     "execution_count": 5,
     "metadata": {},
     "output_type": "execute_result"
    }
   ],
   "source": [
    "df_genres.distinct().count()"
   ]
  },
  {
   "cell_type": "code",
   "execution_count": null,
   "id": "4c19f84d-ee57-468d-a657-bc2c22fac7c2",
   "metadata": {},
   "outputs": [],
   "source": []
  },
  {
   "cell_type": "code",
   "execution_count": 8,
   "id": "b0c2680a-c86d-4b27-a6f1-c84c08ed8924",
   "metadata": {},
   "outputs": [
    {
     "data": {
      "text/plain": [
       "2000"
      ]
     },
     "execution_count": 8,
     "metadata": {},
     "output_type": "execute_result"
    }
   ],
   "source": [
    "hdfs_uri_feature_bronze = \"hdfs://namenode:8020/bronze_layer/feature_music.parquet\"\n",
    "df_feature_bronze = spark.read.parquet(hdfs_uri_feature_bronze)\n",
    "df_feature_bronze.count()"
   ]
  },
  {
   "cell_type": "code",
   "execution_count": 9,
   "id": "00b218a3-edc8-4641-8995-f37ee67794a9",
   "metadata": {},
   "outputs": [
    {
     "name": "stdout",
     "output_type": "stream",
     "text": [
      "+------+-----------------+\n",
      "|artist|genre            |\n",
      "+------+-----------------+\n",
      "|Drake |hip hop, pop, R&B|\n",
      "|Drake |hip hop, pop, R&B|\n",
      "|Drake |hip hop, pop, R&B|\n",
      "|Drake |hip hop, pop, R&B|\n",
      "|Drake |hip hop, pop, R&B|\n",
      "+------+-----------------+\n",
      "only showing top 5 rows\n",
      "\n"
     ]
    }
   ],
   "source": [
    "df_feature_bronze.select(\"artist\", \"genre\").where(col(\"artist\") == \"Drake\").show(5, truncate=False)"
   ]
  },
  {
   "cell_type": "code",
   "execution_count": null,
   "id": "efe72d1d-d0ef-45ea-8670-b9d58edb21a1",
   "metadata": {},
   "outputs": [],
   "source": []
  },
  {
   "cell_type": "code",
   "execution_count": 12,
   "id": "a87b5c6a-9ddb-4454-b5fb-dbe03f89a361",
   "metadata": {},
   "outputs": [],
   "source": [
    "artists_feature_genres = df_feature_bronze \\\n",
    "    .select(\"artist\", \"genre\") \\\n",
    "    .withColumn(\"genre\", explode(split(col(\"genre\"), \",\\s*\"))) \\\n",
    "    .distinct()"
   ]
  },
  {
   "cell_type": "code",
   "execution_count": 13,
   "id": "91ab3aa8-8635-41f5-a5c1-93dc1d506bdb",
   "metadata": {},
   "outputs": [],
   "source": [
    "df_Drake_feature = artists_feature_genres.select(\"artist\", \"genre\").where(col(\"artist\") == \"Drake\")"
   ]
  },
  {
   "cell_type": "code",
   "execution_count": 14,
   "id": "606b6d3c-a081-4b68-a0ab-692a79943eb3",
   "metadata": {},
   "outputs": [
    {
     "name": "stdout",
     "output_type": "stream",
     "text": [
      "df ở genres artists 5459\n",
      "genres ở Feature 1507\n"
     ]
    }
   ],
   "source": [
    "print(\"df ở genres artists\",df_genres.count())\n",
    "print(\"genres ở Feature\", artists_feature_genres.count())"
   ]
  },
  {
   "cell_type": "code",
   "execution_count": null,
   "id": "e0d42dbf-abe1-4747-8508-38c164ada988",
   "metadata": {},
   "outputs": [],
   "source": []
  },
  {
   "cell_type": "code",
   "execution_count": 18,
   "id": "f39801f7-27e0-4718-9174-212f1854ae37",
   "metadata": {},
   "outputs": [
    {
     "name": "stdout",
     "output_type": "stream",
     "text": [
      "root\n",
      " |-- artist: string (nullable = true)\n",
      " |-- genre: string (nullable = false)\n",
      "\n"
     ]
    }
   ],
   "source": [
    "df_Drake_feature.printSchema()"
   ]
  },
  {
   "cell_type": "code",
   "execution_count": null,
   "id": "7843655d-ddf2-42ae-8544-c71253892b59",
   "metadata": {},
   "outputs": [],
   "source": []
  },
  {
   "cell_type": "code",
   "execution_count": null,
   "id": "265d9b83-b1a2-40c4-ba32-f9a5542b2352",
   "metadata": {},
   "outputs": [],
   "source": []
  },
  {
   "cell_type": "markdown",
   "id": "cb148e53-12c7-4a0d-ad5d-ac780539aed3",
   "metadata": {},
   "source": [
    "<h1> Prepare Gold Layer </h1>"
   ]
  },
  {
   "cell_type": "code",
   "execution_count": 22,
   "id": "85d85ff8-36ea-417a-801b-5ea8af30c2cd",
   "metadata": {},
   "outputs": [],
   "source": [
    "artists = \"hdfs://namenode:8020/silver_layer/silver_artists.parquet\"\n",
    "albums = \"hdfs://namenode:8020/silver_layer/silver_album.parquet\"\n",
    "artists_genres = \"hdfs://namenode:8020/silver_layer/silver_artists_genres.parquet\"\n",
    "feature_music = \"hdfs://namenode:8020/silver_layer/silver_feature_music.parquet\"\n",
    "tracks = \"hdfs://namenode:8020/silver_layer/tracks_data.parquet\"\n",
    "\n",
    "spark = SparkSession.builder.appName(\"Gold_Layer_Processing\").getOrCreate()"
   ]
  },
  {
   "cell_type": "code",
   "execution_count": 23,
   "id": "55ec1696-343d-40b1-aed5-247abed41d8d",
   "metadata": {},
   "outputs": [],
   "source": [
    "artists_df = spark.read.parquet(artists)\n",
    "albums_df = spark.read.parquet(albums)\n",
    "artists_genres_df = spark.read.parquet(artists_genres)\n",
    "feature_music_df = spark.read.parquet(feature_music)\n",
    "tracks_df = spark.read.parquet(tracks)"
   ]
  },
  {
   "cell_type": "code",
   "execution_count": 24,
   "id": "6c8a8af5-6a58-4926-8872-362814c4b75b",
   "metadata": {},
   "outputs": [
    {
     "name": "stdout",
     "output_type": "stream",
     "text": [
      "-RECORD 0---------------------------------------------------------------------------------\n",
      " id                    | 00FQb4jTyendYWaN8pK0wa                                           \n",
      " name                  | Lana Del Rey                                                     \n",
      " popularity            | 91                                                               \n",
      " type                  | artist                                                           \n",
      " uri                   | spotify:artist:00FQb4jTyendYWaN8pK0wa                            \n",
      " artist_id             | 00FQb4jTyendYWaN8pK0wa                                           \n",
      " external_urls_artists | https://open.spotify.com/artist/00FQb4jTyendYWaN8pK0wa           \n",
      " followers number      | 45985411                                                         \n",
      " images_artists        | https://i.scdn.co/image/ab6761610000e5ebb99cacf8acd5378206767261 \n",
      "-RECORD 1---------------------------------------------------------------------------------\n",
      " id                    | 00YTqRClk82aMchQQpYMd5                                           \n",
      " name                  | Our Last Night                                                   \n",
      " popularity            | 64                                                               \n",
      " type                  | artist                                                           \n",
      " uri                   | spotify:artist:00YTqRClk82aMchQQpYMd5                            \n",
      " artist_id             | 00YTqRClk82aMchQQpYMd5                                           \n",
      " external_urls_artists | https://open.spotify.com/artist/00YTqRClk82aMchQQpYMd5           \n",
      " followers number      | 1170608                                                          \n",
      " images_artists        | https://i.scdn.co/image/ab6761610000e5eb82df4aa3b200e9f544e54a5a \n",
      "only showing top 2 rows\n",
      "\n",
      "-RECORD 0----------------------------------------------------------------------------------\n",
      " album_type             | single                                                           \n",
      " artist_id              | 4fdCGYM7dtJLa3LvR1ccto                                           \n",
      " id                     | 009S3gREumxdbFjf2roqlU                                           \n",
      " label                  | Onimusic                                                         \n",
      " popularity             | 25                                                               \n",
      " release_date           | 2024-10-10                                                       \n",
      " release_date_precision | day                                                              \n",
      " total_tracks           | 4                                                                \n",
      " type                   | album                                                            \n",
      " uri                    | open.spotify.com/album/009S3gREumxdbFjf2roqlU                    \n",
      " album_id               | 009S3gREumxdbFjf2roqlU                                           \n",
      " external_urls_albums   | https://open.spotify.com/album/009S3gREumxdbFjf2roqlU            \n",
      " album_name             | Gratidão                                                         \n",
      " image_album            | https://i.scdn.co/image/ab67616d0000b273de314cd81eb7d36413470827 \n",
      "-RECORD 1----------------------------------------------------------------------------------\n",
      " album_type             | compilation                                                      \n",
      " artist_id              | 0vEsuISMWAKNctLlUAhSZC                                           \n",
      " id                     | 009d83fu2guwouIwqr7i9E                                           \n",
      " label                  | Dreamworks - Shrek II                                            \n",
      " popularity             | 64                                                               \n",
      " release_date           | 2004-05-19                                                       \n",
      " release_date_precision | day                                                              \n",
      " total_tracks           | 14                                                               \n",
      " type                   | album                                                            \n",
      " uri                    | open.spotify.com/album/009d83fu2guwouIwqr7i9E                    \n",
      " album_id               | 009d83fu2guwouIwqr7i9E                                           \n",
      " external_urls_albums   | https://open.spotify.com/album/009d83fu2guwouIwqr7i9E            \n",
      " album_name             | Shrek 2 (Original Motion Picture Soundtrack)                     \n",
      " image_album            | https://i.scdn.co/image/ab67616d0000b273a895c616f899f06429bc8b4f \n",
      "only showing top 2 rows\n",
      "\n",
      "-RECORD 0---------------------------\n",
      " artist_id | 00YTqRClk82aMchQQpYMd5 \n",
      " artist    | Our Last Night         \n",
      " genre     | metalcore              \n",
      "-RECORD 1---------------------------\n",
      " artist_id | 00YTqRClk82aMchQQpYMd5 \n",
      " artist    | Our Last Night         \n",
      " genre     | post-hardcore          \n",
      "only showing top 2 rows\n",
      "\n",
      "-RECORD 0------------------------\n",
      " acousticness     | 0.0271       \n",
      " artist           | Lasgo        \n",
      " danceability     | 0.643        \n",
      " duration_ms      | 220973       \n",
      " energy           | 0.981        \n",
      " explicit         | False        \n",
      " genre            | pop          \n",
      " instrumentalness | 8.93E-5      \n",
      " key              | 7            \n",
      " liveness         | 0.11         \n",
      " loudness         | -6.644       \n",
      " mode             | 0            \n",
      " popularity       | 65           \n",
      " speechiness      | 0.0439       \n",
      " valence          | 0.38         \n",
      " tempo            | 140.01       \n",
      " year             | 2001         \n",
      " track            | Something    \n",
      "-RECORD 1------------------------\n",
      " acousticness     | 0.0302       \n",
      " artist           | Big Tymers   \n",
      " danceability     | 0.675        \n",
      " duration_ms      | 335613       \n",
      " energy           | 0.607        \n",
      " explicit         | True         \n",
      " genre            | hip hop, pop \n",
      " instrumentalness | 8.97E-6      \n",
      " key              | 11           \n",
      " liveness         | 0.339        \n",
      " loudness         | -3.538       \n",
      " mode             | 1            \n",
      " popularity       | 64           \n",
      " speechiness      | 0.162        \n",
      " valence          | 0.56         \n",
      " tempo            | 177.928      \n",
      " year             | 2002         \n",
      " track            | Still Fly    \n",
      "only showing top 2 rows\n",
      "\n",
      "-RECORD 0---------------------------------------------------------------------\n",
      " artist_id            | 0qSX3s5pJnAlSsgsCne8Cz                                \n",
      " album_id             | 6bn1TML338LShzJsuhxbj5                                \n",
      " disc_number          | 1                                                     \n",
      " duration_ms          | 179826                                                \n",
      " explicit             | false                                                 \n",
      " id                   | 000KKisPBgKkWwRSxIzsnE                                \n",
      " is_local             | false                                                 \n",
      " name                 | Beat of the Music                                     \n",
      " popularity           | 19                                                    \n",
      " preview_url          | null                                                  \n",
      " track_number         | 7                                                     \n",
      " type                 | track                                                 \n",
      " uri                  | open.spotify.com/track/000KKisPBgKkWwRSxIzsnE         \n",
      " track_id             | 000KKisPBgKkWwRSxIzsnE                                \n",
      " external_urls_tracks | https://open.spotify.com/track/000KKisPBgKkWwRSxIzsnE \n",
      "-RECORD 1---------------------------------------------------------------------\n",
      " artist_id            | 54R6Y0I7jGUCveDTtI21nb                                \n",
      " album_id             | 2B780cgk4dXO3GK2l9NBnn                                \n",
      " disc_number          | 1                                                     \n",
      " duration_ms          | 192434                                                \n",
      " explicit             | false                                                 \n",
      " id                   | 000V86A5s6gAGp73ucRnmD                                \n",
      " is_local             | false                                                 \n",
      " name                 | Sunny (feat. Connor Price)                            \n",
      " popularity           | 43                                                    \n",
      " preview_url          | null                                                  \n",
      " track_number         | 1                                                     \n",
      " type                 | track                                                 \n",
      " uri                  | open.spotify.com/track/000V86A5s6gAGp73ucRnmD         \n",
      " track_id             | 000V86A5s6gAGp73ucRnmD                                \n",
      " external_urls_tracks | https://open.spotify.com/track/000V86A5s6gAGp73ucRnmD \n",
      "only showing top 2 rows\n",
      "\n"
     ]
    }
   ],
   "source": [
    "artists_df.show(2, vertical=True, truncate=False)\n",
    "albums_df.show(2, vertical=True, truncate=False)\n",
    "artists_genres_df.show(2, vertical=True, truncate=False)\n",
    "feature_music_df.show(2, vertical=True, truncate=False)\n",
    "tracks_df.show(2, vertical=True, truncate=False)"
   ]
  },
  {
   "cell_type": "code",
   "execution_count": 27,
   "id": "79cb0b03-553a-44f7-8fa1-d2b81ccdb835",
   "metadata": {},
   "outputs": [
    {
     "name": "stdout",
     "output_type": "stream",
     "text": [
      "-RECORD 0---------------------------------------------------------------------------------\n",
      " id                    | 00FQb4jTyendYWaN8pK0wa                                           \n",
      " name                  | Lana Del Rey                                                     \n",
      " popularity            | 91                                                               \n",
      " type                  | artist                                                           \n",
      " uri                   | spotify:artist:00FQb4jTyendYWaN8pK0wa                            \n",
      " artist_id             | 00FQb4jTyendYWaN8pK0wa                                           \n",
      " external_urls_artists | https://open.spotify.com/artist/00FQb4jTyendYWaN8pK0wa           \n",
      " followers number      | 45985411                                                         \n",
      " images_artists        | https://i.scdn.co/image/ab6761610000e5ebb99cacf8acd5378206767261 \n",
      "-RECORD 1---------------------------------------------------------------------------------\n",
      " id                    | 00YTqRClk82aMchQQpYMd5                                           \n",
      " name                  | Our Last Night                                                   \n",
      " popularity            | 64                                                               \n",
      " type                  | artist                                                           \n",
      " uri                   | spotify:artist:00YTqRClk82aMchQQpYMd5                            \n",
      " artist_id             | 00YTqRClk82aMchQQpYMd5                                           \n",
      " external_urls_artists | https://open.spotify.com/artist/00YTqRClk82aMchQQpYMd5           \n",
      " followers number      | 1170608                                                          \n",
      " images_artists        | https://i.scdn.co/image/ab6761610000e5eb82df4aa3b200e9f544e54a5a \n",
      "only showing top 2 rows\n",
      "\n"
     ]
    }
   ],
   "source": [
    "artists_df.show(2, vertical=True, truncate=False)"
   ]
  },
  {
   "cell_type": "markdown",
   "id": "3ecea217-3249-4716-ba23-eee552f7523c",
   "metadata": {},
   "source": [
    "<h1> gold_track_metadata </h1>"
   ]
  },
  {
   "cell_type": "code",
   "execution_count": 28,
   "id": "8e66c290-e220-4638-8702-8ea7563a6066",
   "metadata": {},
   "outputs": [
    {
     "name": "stdout",
     "output_type": "stream",
     "text": [
      "root\n",
      " |-- id: string (nullable = true)\n",
      " |-- name: string (nullable = true)\n",
      " |-- popularity: integer (nullable = true)\n",
      " |-- type: string (nullable = true)\n",
      " |-- uri: string (nullable = true)\n",
      " |-- artist_id: string (nullable = true)\n",
      " |-- external_urls_artists: string (nullable = true)\n",
      " |-- followers number: integer (nullable = true)\n",
      " |-- images_artists: string (nullable = true)\n",
      "\n",
      "artists_DataFrame Schema  None\n",
      "root\n",
      " |-- album_type: string (nullable = true)\n",
      " |-- artist_id: string (nullable = true)\n",
      " |-- id: string (nullable = true)\n",
      " |-- label: string (nullable = true)\n",
      " |-- popularity: integer (nullable = true)\n",
      " |-- release_date: string (nullable = true)\n",
      " |-- release_date_precision: string (nullable = true)\n",
      " |-- total_tracks: integer (nullable = true)\n",
      " |-- type: string (nullable = true)\n",
      " |-- uri: string (nullable = true)\n",
      " |-- album_id: string (nullable = true)\n",
      " |-- external_urls_albums: string (nullable = true)\n",
      " |-- album_name: string (nullable = true)\n",
      " |-- image_album: string (nullable = true)\n",
      "\n",
      "albums_DataFrame Schema  None\n",
      "root\n",
      " |-- artist_id: string (nullable = true)\n",
      " |-- artist: string (nullable = true)\n",
      " |-- genre: string (nullable = true)\n",
      "\n",
      "artists_genres_DataFrame Schema  None\n",
      "root\n",
      " |-- acousticness: double (nullable = true)\n",
      " |-- artist: string (nullable = true)\n",
      " |-- danceability: double (nullable = true)\n",
      " |-- duration_ms: long (nullable = true)\n",
      " |-- energy: double (nullable = true)\n",
      " |-- explicit: string (nullable = true)\n",
      " |-- genre: string (nullable = true)\n",
      " |-- instrumentalness: double (nullable = true)\n",
      " |-- key: integer (nullable = true)\n",
      " |-- liveness: double (nullable = true)\n",
      " |-- loudness: double (nullable = true)\n",
      " |-- mode: integer (nullable = true)\n",
      " |-- popularity: integer (nullable = true)\n",
      " |-- speechiness: double (nullable = true)\n",
      " |-- valence: double (nullable = true)\n",
      " |-- tempo: double (nullable = true)\n",
      " |-- year: integer (nullable = true)\n",
      " |-- track: string (nullable = true)\n",
      "\n",
      "feature_music_df_DataFrame Schema  None\n",
      "root\n",
      " |-- artist_id: string (nullable = true)\n",
      " |-- album_id: string (nullable = true)\n",
      " |-- disc_number: integer (nullable = true)\n",
      " |-- duration_ms: long (nullable = true)\n",
      " |-- explicit: string (nullable = true)\n",
      " |-- id: string (nullable = true)\n",
      " |-- is_local: boolean (nullable = true)\n",
      " |-- name: string (nullable = true)\n",
      " |-- popularity: integer (nullable = true)\n",
      " |-- preview_url: string (nullable = true)\n",
      " |-- track_number: integer (nullable = true)\n",
      " |-- type: string (nullable = true)\n",
      " |-- uri: string (nullable = true)\n",
      " |-- track_id: string (nullable = true)\n",
      " |-- external_urls_tracks: string (nullable = true)\n",
      "\n",
      "tracks_df_DataFrame Schema  None\n"
     ]
    }
   ],
   "source": [
    "print(\"artists_DataFrame Schema \", artists_df.printSchema())\n",
    "print(\"albums_DataFrame Schema \", albums_df.printSchema())\n",
    "print(\"artists_genres_DataFrame Schema \", artists_genres_df.printSchema())\n",
    "print(\"feature_music_df_DataFrame Schema \", feature_music_df.printSchema())\n",
    "print(\"tracks_df_DataFrame Schema \", tracks_df.printSchema())\n"
   ]
  },
  {
   "cell_type": "code",
   "execution_count": 39,
   "id": "542f720c-f563-443b-80bc-8d72ec41d4eb",
   "metadata": {},
   "outputs": [
    {
     "data": {
      "text/plain": [
       "[Row(track_id='0007aPK8VmXN4ycL2OcBFa', track_name='Bodhisattva - Live', duration_ms=295266, explicit='false', popularity_track=23, uri_track='open.spotify.com/track/0007aPK8VmXN4ycL2OcBFa', external_urls_tracks='https://open.spotify.com/track/0007aPK8VmXN4ycL2OcBFa', album_name='Live in Amsterdam (25th Anniversary)', album_type='album', release_date='2003-03-25', label='earMUSIC Classics', popularity_album=40, image_album='https://i.scdn.co/image/ab67616d0000b2732a4acfa030224c7b50b4988f', external_urls_albums='https://open.spotify.com/album/49R9ye71gtBwAbiHMcAunV', artist_name='TOTO', popularity_artist=76, followers number=3397853, artist_spotify_id='0PFtn5NtBbbUNbU9EAmIWF', type_artist='artist', uri_artist='spotify:artist:0PFtn5NtBbbUNbU9EAmIWF', external_urls_artists='https://open.spotify.com/artist/0PFtn5NtBbbUNbU9EAmIWF', images_artists='https://i.scdn.co/image/ab6761610000e5eba59a5bcab211f964fe9bfb06', genres='soft rock'),\n",
       " Row(track_id='000N4CJL8IjQ0f2I4grgBO', track_name='Girl Next Door', duration_ms=180682, explicit='false', popularity_track=58, uri_track='open.spotify.com/track/000N4CJL8IjQ0f2I4grgBO', external_urls_tracks='https://open.spotify.com/track/000N4CJL8IjQ0f2I4grgBO', album_name='Girl Next Door', album_type='single', release_date='2023-05-11', label='FAX Records/Epic', popularity_album=46, image_album='https://i.scdn.co/image/ab67616d0000b273e96f1ee613079b5845fe84bb', external_urls_albums='https://open.spotify.com/album/1FLS0YAOPY3Mcb0o5n5fl4', artist_name='Tyla', popularity_artist=78, followers number=2844698, artist_spotify_id='3SozjO3Lat463tQICI9LcE', type_artist='artist', uri_artist='spotify:artist:3SozjO3Lat463tQICI9LcE', external_urls_artists='https://open.spotify.com/artist/3SozjO3Lat463tQICI9LcE', images_artists='https://i.scdn.co/image/ab6761610000e5eba1fca104a7abe5a7031b887d', genres='afrobeats'),\n",
       " Row(track_id='001c1daR1pFdqfpe1vAWzh', track_name=\"It's Only Rock 'N' Roll (But I Like It)\", duration_ms=322346, explicit='false', popularity_track=43, uri_track='open.spotify.com/track/001c1daR1pFdqfpe1vAWzh', external_urls_tracks='https://open.spotify.com/track/001c1daR1pFdqfpe1vAWzh', album_name=\"It's Only Rock 'N' Roll (But I Like It)\", album_type='single', release_date='2022-11-04', label='Broken Bow Records', popularity_album=32, image_album='https://i.scdn.co/image/ab67616d0000b2734697523036c55e9164197134', external_urls_albums='https://open.spotify.com/album/1GCjwU2CejKwooZG68QBqb', artist_name='Brothers Osborne', popularity_artist=64, followers number=1266529, artist_spotify_id='39NR3AUhpbbqKM33vWn2fp', type_artist='artist', uri_artist='spotify:artist:39NR3AUhpbbqKM33vWn2fp', external_urls_artists='https://open.spotify.com/artist/39NR3AUhpbbqKM33vWn2fp', images_artists='https://i.scdn.co/image/ab6761610000e5eb3d875babcc256bc45e7581ea', genres='country, country rock'),\n",
       " Row(track_id='004t0MwHjdcKZSJ2PAICy7', track_name='Ángela', duration_ms=171040, explicit='false', popularity_track=20, uri_track='open.spotify.com/track/004t0MwHjdcKZSJ2PAICy7', external_urls_tracks='https://open.spotify.com/track/004t0MwHjdcKZSJ2PAICy7', album_name='12 Mejores Éxitos con Los Caminantes, Vol. 3', album_type='album', release_date='2025-04-01', label='Discos Amor', popularity_album=26, image_album='https://i.scdn.co/image/ab67616d0000b2738c72417ac606dbb239d4dd9c', external_urls_albums='https://open.spotify.com/album/10cIakFsWgQkzsPRsIDY4H', artist_name='Los Caminantes', popularity_artist=69, followers number=2318753, artist_spotify_id='6ziEnj8UydSg8dr68C3aut', type_artist='artist', uri_artist='spotify:artist:6ziEnj8UydSg8dr68C3aut', external_urls_artists='https://open.spotify.com/artist/6ziEnj8UydSg8dr68C3aut', images_artists='https://i.scdn.co/image/7aa2d60ae801f2a8f9a3c502e479f3907a53bc6c', genres='cumbia, grupera'),\n",
       " Row(track_id='004vyNAXRqeEp6TpXmSkky', track_name='Something About You', duration_ms=293973, explicit='false', popularity_track=17, uri_track='open.spotify.com/track/004vyNAXRqeEp6TpXmSkky', external_urls_tracks='https://open.spotify.com/track/004vyNAXRqeEp6TpXmSkky', album_name='Coming up to Breathe', album_type='album', release_date='2006-04-25', label='Fair Trade/Columbia', popularity_album=40, image_album='https://i.scdn.co/image/ab67616d0000b27326966bb982a98c34e0ca596d', external_urls_albums='https://open.spotify.com/album/4UlF8KoLFaLRQQupuwf18w', artist_name='MercyMe', popularity_artist=65, followers number=1977839, artist_spotify_id='6APm8EjxOHSYM5B4i3vT3q', type_artist='artist', uri_artist='spotify:artist:6APm8EjxOHSYM5B4i3vT3q', external_urls_artists='https://open.spotify.com/artist/6APm8EjxOHSYM5B4i3vT3q', images_artists='https://i.scdn.co/image/ab6761610000e5ebd9f0ad0f0b89622a0c8940cd', genres='christian pop, ccm, worship, christian alternative rock, christian, christian rock')]"
      ]
     },
     "execution_count": 39,
     "metadata": {},
     "output_type": "execute_result"
    }
   ],
   "source": [
    "from pyspark.sql import SparkSession\n",
    "from pyspark.sql.functions import col, collect_set, concat_ws\n",
    "\n",
    "\n",
    "def gold_track_metadata(spark: SparkSession):\n",
    "\n",
    "    tracks_df = spark.read.parquet(\"hdfs://namenode:8020/silver_layer/tracks_data.parquet\")\n",
    "    albums_df = spark.read.parquet(\"hdfs://namenode:8020/silver_layer/silver_album.parquet\")\n",
    "    artists_df = spark.read.parquet(\"hdfs://namenode:8020/silver_layer/silver_artists.parquet\")\n",
    "    artists_genres_df = spark.read.parquet(\"hdfs://namenode:8020/silver_layer/silver_artists_genres.parquet\")\n",
    "    \n",
    "    artists_genres_df = (\n",
    "        artists_genres_df.groupBy(\"artist_id\")\n",
    "        .agg(concat_ws(\", \", collect_set(\"genre\")).alias(\"genres\"))\n",
    "    )\n",
    "    \n",
    "    artists_df = artists_df.selectExpr(\n",
    "        \"artist_id\",\n",
    "        \"id as artist_spotify_id\",\n",
    "        \"name as artist_name\",\n",
    "        \"popularity as popularity_artist\",\n",
    "        \"`followers number`\",\n",
    "        \"type as type_artist\",\n",
    "        \"uri as uri_artist\",\n",
    "        \"external_urls_artists\",\n",
    "        \"images_artists\"\n",
    "    )\n",
    "    \n",
    "    albums_df = albums_df.selectExpr(\n",
    "        \"album_id\",\n",
    "        \"artist_id as album_artist_id\",\n",
    "        \"album_name\",\n",
    "        \"album_type\",\n",
    "        \"release_date\",\n",
    "        \"label\",\n",
    "        \"popularity as popularity_album\",\n",
    "        \"image_album\",\n",
    "        \"external_urls_albums\"\n",
    "    )\n",
    "    \n",
    "    tracks_df = tracks_df.selectExpr(\n",
    "        \"track_id\",\n",
    "        \"album_id as track_album_id\",\n",
    "        \"artist_id as track_artist_id\",\n",
    "        \"name as track_name\",\n",
    "        \"duration_ms\",\n",
    "        \"explicit\",\n",
    "        \"popularity as popularity_track\",\n",
    "        \"uri as uri_track\",\n",
    "        \"external_urls_tracks\"\n",
    "    )\n",
    "    \n",
    "    df = (\n",
    "        tracks_df\n",
    "        .join(albums_df, tracks_df.track_album_id == albums_df.album_id, how=\"inner\")\n",
    "        .join(artists_df, tracks_df.track_artist_id == artists_df.artist_id, how=\"inner\")\n",
    "        .join(artists_genres_df, tracks_df.track_artist_id == artists_genres_df.artist_id, how=\"inner\")\n",
    "    )\n",
    "    \n",
    "    result_df = df.select(\n",
    "        \"track_id\", \"track_name\", \"duration_ms\", \"explicit\", \"popularity_track\", \"uri_track\", \"external_urls_tracks\",\n",
    "        \"album_name\", \"album_type\", \"release_date\", \"label\", \"popularity_album\", \"image_album\", \"external_urls_albums\",\n",
    "        \"artist_name\", \"popularity_artist\", \"followers number\", \"artist_spotify_id\", \"type_artist\", \"uri_artist\", \"external_urls_artists\", \"images_artists\",\n",
    "        \"genres\"\n",
    "    ).dropDuplicates([\"track_id\"])\n",
    "\n",
    "    result_df.write.mode(\"overwrite\").parquet(\"hdfs://namenode:8020/gold_layer/gold_track_metadata.parquet\")\n"
   ]
  },
  {
   "cell_type": "code",
   "execution_count": 40,
   "id": "6e069825-e2fe-4e1c-989e-26ddbca0ed7b",
   "metadata": {},
   "outputs": [],
   "source": [
    "pandas_df = result_df.toPandas()"
   ]
  },
  {
   "cell_type": "code",
   "execution_count": 41,
   "id": "78f86e69-91d1-4785-bfd9-d847218217d4",
   "metadata": {},
   "outputs": [
    {
     "data": {
      "text/html": [
       "<div>\n",
       "<style scoped>\n",
       "    .dataframe tbody tr th:only-of-type {\n",
       "        vertical-align: middle;\n",
       "    }\n",
       "\n",
       "    .dataframe tbody tr th {\n",
       "        vertical-align: top;\n",
       "    }\n",
       "\n",
       "    .dataframe thead th {\n",
       "        text-align: right;\n",
       "    }\n",
       "</style>\n",
       "<table border=\"1\" class=\"dataframe\">\n",
       "  <thead>\n",
       "    <tr style=\"text-align: right;\">\n",
       "      <th></th>\n",
       "      <th>track_id</th>\n",
       "      <th>track_name</th>\n",
       "      <th>duration_ms</th>\n",
       "      <th>explicit</th>\n",
       "      <th>popularity_track</th>\n",
       "      <th>uri_track</th>\n",
       "      <th>external_urls_tracks</th>\n",
       "      <th>album_name</th>\n",
       "      <th>album_type</th>\n",
       "      <th>release_date</th>\n",
       "      <th>...</th>\n",
       "      <th>external_urls_albums</th>\n",
       "      <th>artist_name</th>\n",
       "      <th>popularity_artist</th>\n",
       "      <th>followers number</th>\n",
       "      <th>artist_spotify_id</th>\n",
       "      <th>type_artist</th>\n",
       "      <th>uri_artist</th>\n",
       "      <th>external_urls_artists</th>\n",
       "      <th>images_artists</th>\n",
       "      <th>genres</th>\n",
       "    </tr>\n",
       "  </thead>\n",
       "  <tbody>\n",
       "    <tr>\n",
       "      <th>0</th>\n",
       "      <td>0007aPK8VmXN4ycL2OcBFa</td>\n",
       "      <td>Bodhisattva - Live</td>\n",
       "      <td>295266</td>\n",
       "      <td>false</td>\n",
       "      <td>23</td>\n",
       "      <td>open.spotify.com/track/0007aPK8VmXN4ycL2OcBFa</td>\n",
       "      <td>https://open.spotify.com/track/0007aPK8VmXN4yc...</td>\n",
       "      <td>Live in Amsterdam (25th Anniversary)</td>\n",
       "      <td>album</td>\n",
       "      <td>2003-03-25</td>\n",
       "      <td>...</td>\n",
       "      <td>https://open.spotify.com/album/49R9ye71gtBwAbi...</td>\n",
       "      <td>TOTO</td>\n",
       "      <td>76</td>\n",
       "      <td>3397853</td>\n",
       "      <td>0PFtn5NtBbbUNbU9EAmIWF</td>\n",
       "      <td>artist</td>\n",
       "      <td>spotify:artist:0PFtn5NtBbbUNbU9EAmIWF</td>\n",
       "      <td>https://open.spotify.com/artist/0PFtn5NtBbbUNb...</td>\n",
       "      <td>https://i.scdn.co/image/ab6761610000e5eba59a5b...</td>\n",
       "      <td>soft rock</td>\n",
       "    </tr>\n",
       "    <tr>\n",
       "      <th>1</th>\n",
       "      <td>000N4CJL8IjQ0f2I4grgBO</td>\n",
       "      <td>Girl Next Door</td>\n",
       "      <td>180682</td>\n",
       "      <td>false</td>\n",
       "      <td>58</td>\n",
       "      <td>open.spotify.com/track/000N4CJL8IjQ0f2I4grgBO</td>\n",
       "      <td>https://open.spotify.com/track/000N4CJL8IjQ0f2...</td>\n",
       "      <td>Girl Next Door</td>\n",
       "      <td>single</td>\n",
       "      <td>2023-05-11</td>\n",
       "      <td>...</td>\n",
       "      <td>https://open.spotify.com/album/1FLS0YAOPY3Mcb0...</td>\n",
       "      <td>Tyla</td>\n",
       "      <td>78</td>\n",
       "      <td>2844698</td>\n",
       "      <td>3SozjO3Lat463tQICI9LcE</td>\n",
       "      <td>artist</td>\n",
       "      <td>spotify:artist:3SozjO3Lat463tQICI9LcE</td>\n",
       "      <td>https://open.spotify.com/artist/3SozjO3Lat463t...</td>\n",
       "      <td>https://i.scdn.co/image/ab6761610000e5eba1fca1...</td>\n",
       "      <td>afrobeats</td>\n",
       "    </tr>\n",
       "    <tr>\n",
       "      <th>2</th>\n",
       "      <td>001c1daR1pFdqfpe1vAWzh</td>\n",
       "      <td>It's Only Rock 'N' Roll (But I Like It)</td>\n",
       "      <td>322346</td>\n",
       "      <td>false</td>\n",
       "      <td>43</td>\n",
       "      <td>open.spotify.com/track/001c1daR1pFdqfpe1vAWzh</td>\n",
       "      <td>https://open.spotify.com/track/001c1daR1pFdqfp...</td>\n",
       "      <td>It's Only Rock 'N' Roll (But I Like It)</td>\n",
       "      <td>single</td>\n",
       "      <td>2022-11-04</td>\n",
       "      <td>...</td>\n",
       "      <td>https://open.spotify.com/album/1GCjwU2CejKwooZ...</td>\n",
       "      <td>Brothers Osborne</td>\n",
       "      <td>64</td>\n",
       "      <td>1266529</td>\n",
       "      <td>39NR3AUhpbbqKM33vWn2fp</td>\n",
       "      <td>artist</td>\n",
       "      <td>spotify:artist:39NR3AUhpbbqKM33vWn2fp</td>\n",
       "      <td>https://open.spotify.com/artist/39NR3AUhpbbqKM...</td>\n",
       "      <td>https://i.scdn.co/image/ab6761610000e5eb3d875b...</td>\n",
       "      <td>country, country rock</td>\n",
       "    </tr>\n",
       "    <tr>\n",
       "      <th>3</th>\n",
       "      <td>004t0MwHjdcKZSJ2PAICy7</td>\n",
       "      <td>Ángela</td>\n",
       "      <td>171040</td>\n",
       "      <td>false</td>\n",
       "      <td>20</td>\n",
       "      <td>open.spotify.com/track/004t0MwHjdcKZSJ2PAICy7</td>\n",
       "      <td>https://open.spotify.com/track/004t0MwHjdcKZSJ...</td>\n",
       "      <td>12 Mejores Éxitos con Los Caminantes, Vol. 3</td>\n",
       "      <td>album</td>\n",
       "      <td>2025-04-01</td>\n",
       "      <td>...</td>\n",
       "      <td>https://open.spotify.com/album/10cIakFsWgQkzsP...</td>\n",
       "      <td>Los Caminantes</td>\n",
       "      <td>69</td>\n",
       "      <td>2318753</td>\n",
       "      <td>6ziEnj8UydSg8dr68C3aut</td>\n",
       "      <td>artist</td>\n",
       "      <td>spotify:artist:6ziEnj8UydSg8dr68C3aut</td>\n",
       "      <td>https://open.spotify.com/artist/6ziEnj8UydSg8d...</td>\n",
       "      <td>https://i.scdn.co/image/7aa2d60ae801f2a8f9a3c5...</td>\n",
       "      <td>cumbia, grupera</td>\n",
       "    </tr>\n",
       "    <tr>\n",
       "      <th>4</th>\n",
       "      <td>004vyNAXRqeEp6TpXmSkky</td>\n",
       "      <td>Something About You</td>\n",
       "      <td>293973</td>\n",
       "      <td>false</td>\n",
       "      <td>17</td>\n",
       "      <td>open.spotify.com/track/004vyNAXRqeEp6TpXmSkky</td>\n",
       "      <td>https://open.spotify.com/track/004vyNAXRqeEp6T...</td>\n",
       "      <td>Coming up to Breathe</td>\n",
       "      <td>album</td>\n",
       "      <td>2006-04-25</td>\n",
       "      <td>...</td>\n",
       "      <td>https://open.spotify.com/album/4UlF8KoLFaLRQQu...</td>\n",
       "      <td>MercyMe</td>\n",
       "      <td>65</td>\n",
       "      <td>1977839</td>\n",
       "      <td>6APm8EjxOHSYM5B4i3vT3q</td>\n",
       "      <td>artist</td>\n",
       "      <td>spotify:artist:6APm8EjxOHSYM5B4i3vT3q</td>\n",
       "      <td>https://open.spotify.com/artist/6APm8EjxOHSYM5...</td>\n",
       "      <td>https://i.scdn.co/image/ab6761610000e5ebd9f0ad...</td>\n",
       "      <td>christian pop, ccm, worship, christian alterna...</td>\n",
       "    </tr>\n",
       "  </tbody>\n",
       "</table>\n",
       "<p>5 rows × 23 columns</p>\n",
       "</div>"
      ],
      "text/plain": [
       "                 track_id                               track_name  \\\n",
       "0  0007aPK8VmXN4ycL2OcBFa                       Bodhisattva - Live   \n",
       "1  000N4CJL8IjQ0f2I4grgBO                           Girl Next Door   \n",
       "2  001c1daR1pFdqfpe1vAWzh  It's Only Rock 'N' Roll (But I Like It)   \n",
       "3  004t0MwHjdcKZSJ2PAICy7                                   Ángela   \n",
       "4  004vyNAXRqeEp6TpXmSkky                      Something About You   \n",
       "\n",
       "   duration_ms explicit  popularity_track  \\\n",
       "0       295266    false                23   \n",
       "1       180682    false                58   \n",
       "2       322346    false                43   \n",
       "3       171040    false                20   \n",
       "4       293973    false                17   \n",
       "\n",
       "                                       uri_track  \\\n",
       "0  open.spotify.com/track/0007aPK8VmXN4ycL2OcBFa   \n",
       "1  open.spotify.com/track/000N4CJL8IjQ0f2I4grgBO   \n",
       "2  open.spotify.com/track/001c1daR1pFdqfpe1vAWzh   \n",
       "3  open.spotify.com/track/004t0MwHjdcKZSJ2PAICy7   \n",
       "4  open.spotify.com/track/004vyNAXRqeEp6TpXmSkky   \n",
       "\n",
       "                                external_urls_tracks  \\\n",
       "0  https://open.spotify.com/track/0007aPK8VmXN4yc...   \n",
       "1  https://open.spotify.com/track/000N4CJL8IjQ0f2...   \n",
       "2  https://open.spotify.com/track/001c1daR1pFdqfp...   \n",
       "3  https://open.spotify.com/track/004t0MwHjdcKZSJ...   \n",
       "4  https://open.spotify.com/track/004vyNAXRqeEp6T...   \n",
       "\n",
       "                                     album_name album_type release_date  ...  \\\n",
       "0          Live in Amsterdam (25th Anniversary)      album   2003-03-25  ...   \n",
       "1                                Girl Next Door     single   2023-05-11  ...   \n",
       "2       It's Only Rock 'N' Roll (But I Like It)     single   2022-11-04  ...   \n",
       "3  12 Mejores Éxitos con Los Caminantes, Vol. 3      album   2025-04-01  ...   \n",
       "4                          Coming up to Breathe      album   2006-04-25  ...   \n",
       "\n",
       "                                external_urls_albums       artist_name  \\\n",
       "0  https://open.spotify.com/album/49R9ye71gtBwAbi...              TOTO   \n",
       "1  https://open.spotify.com/album/1FLS0YAOPY3Mcb0...              Tyla   \n",
       "2  https://open.spotify.com/album/1GCjwU2CejKwooZ...  Brothers Osborne   \n",
       "3  https://open.spotify.com/album/10cIakFsWgQkzsP...    Los Caminantes   \n",
       "4  https://open.spotify.com/album/4UlF8KoLFaLRQQu...           MercyMe   \n",
       "\n",
       "  popularity_artist followers number       artist_spotify_id  type_artist  \\\n",
       "0                76          3397853  0PFtn5NtBbbUNbU9EAmIWF       artist   \n",
       "1                78          2844698  3SozjO3Lat463tQICI9LcE       artist   \n",
       "2                64          1266529  39NR3AUhpbbqKM33vWn2fp       artist   \n",
       "3                69          2318753  6ziEnj8UydSg8dr68C3aut       artist   \n",
       "4                65          1977839  6APm8EjxOHSYM5B4i3vT3q       artist   \n",
       "\n",
       "                              uri_artist  \\\n",
       "0  spotify:artist:0PFtn5NtBbbUNbU9EAmIWF   \n",
       "1  spotify:artist:3SozjO3Lat463tQICI9LcE   \n",
       "2  spotify:artist:39NR3AUhpbbqKM33vWn2fp   \n",
       "3  spotify:artist:6ziEnj8UydSg8dr68C3aut   \n",
       "4  spotify:artist:6APm8EjxOHSYM5B4i3vT3q   \n",
       "\n",
       "                               external_urls_artists  \\\n",
       "0  https://open.spotify.com/artist/0PFtn5NtBbbUNb...   \n",
       "1  https://open.spotify.com/artist/3SozjO3Lat463t...   \n",
       "2  https://open.spotify.com/artist/39NR3AUhpbbqKM...   \n",
       "3  https://open.spotify.com/artist/6ziEnj8UydSg8d...   \n",
       "4  https://open.spotify.com/artist/6APm8EjxOHSYM5...   \n",
       "\n",
       "                                      images_artists  \\\n",
       "0  https://i.scdn.co/image/ab6761610000e5eba59a5b...   \n",
       "1  https://i.scdn.co/image/ab6761610000e5eba1fca1...   \n",
       "2  https://i.scdn.co/image/ab6761610000e5eb3d875b...   \n",
       "3  https://i.scdn.co/image/7aa2d60ae801f2a8f9a3c5...   \n",
       "4  https://i.scdn.co/image/ab6761610000e5ebd9f0ad...   \n",
       "\n",
       "                                              genres  \n",
       "0                                          soft rock  \n",
       "1                                          afrobeats  \n",
       "2                              country, country rock  \n",
       "3                                    cumbia, grupera  \n",
       "4  christian pop, ccm, worship, christian alterna...  \n",
       "\n",
       "[5 rows x 23 columns]"
      ]
     },
     "execution_count": 41,
     "metadata": {},
     "output_type": "execute_result"
    }
   ],
   "source": [
    "pandas_df.head(5)"
   ]
  },
  {
   "cell_type": "code",
   "execution_count": 42,
   "id": "ce6b6edb-7353-4c7c-aa7d-604ea9290738",
   "metadata": {},
   "outputs": [
    {
     "data": {
      "text/plain": [
       "track_id                 304177\n",
       "track_name               304177\n",
       "duration_ms              304177\n",
       "explicit                 304177\n",
       "popularity_track         304177\n",
       "uri_track                304177\n",
       "external_urls_tracks     304177\n",
       "album_name               304177\n",
       "album_type               304177\n",
       "release_date             304177\n",
       "label                    304177\n",
       "popularity_album         304177\n",
       "image_album              304151\n",
       "external_urls_albums     304177\n",
       "artist_name              304177\n",
       "popularity_artist        304177\n",
       "followers number         304177\n",
       "artist_spotify_id        304177\n",
       "type_artist              304177\n",
       "uri_artist               304177\n",
       "external_urls_artists    304177\n",
       "images_artists           304176\n",
       "genres                   304177\n",
       "dtype: int64"
      ]
     },
     "execution_count": 42,
     "metadata": {},
     "output_type": "execute_result"
    }
   ],
   "source": [
    "pandas_df.count()"
   ]
  },
  {
   "cell_type": "code",
   "execution_count": 31,
   "id": "3aad333f-e61d-409a-9021-44188500600f",
   "metadata": {},
   "outputs": [
    {
     "name": "stdout",
     "output_type": "stream",
     "text": [
      "root\n",
      " |-- acousticness: double (nullable = true)\n",
      " |-- artist: string (nullable = true)\n",
      " |-- danceability: double (nullable = true)\n",
      " |-- duration_ms: long (nullable = true)\n",
      " |-- energy: double (nullable = true)\n",
      " |-- explicit: string (nullable = true)\n",
      " |-- genre: string (nullable = true)\n",
      " |-- instrumentalness: double (nullable = true)\n",
      " |-- key: integer (nullable = true)\n",
      " |-- liveness: double (nullable = true)\n",
      " |-- loudness: double (nullable = true)\n",
      " |-- mode: integer (nullable = true)\n",
      " |-- popularity: integer (nullable = true)\n",
      " |-- song: string (nullable = true)\n",
      " |-- speechiness: double (nullable = true)\n",
      " |-- valence: double (nullable = true)\n",
      " |-- tempo: double (nullable = true)\n",
      " |-- year: integer (nullable = true)\n",
      " |-- track: string (nullable = true)\n",
      "\n"
     ]
    }
   ],
   "source": [
    "feature_music_df.printSchema()"
   ]
  },
  {
   "cell_type": "code",
   "execution_count": 52,
   "id": "ed9e6031-9d03-456d-bcd0-a24671ec0f3d",
   "metadata": {},
   "outputs": [
    {
     "name": "stdout",
     "output_type": "stream",
     "text": [
      "+--------------------+------------+------+--------+-----------+------------+----------------+--------+-------+-------+-----------+\n",
      "|            track_id|danceability|energy|loudness|speechiness|acousticness|instrumentalness|liveness|valence|  tempo|duration_ms|\n",
      "+--------------------+------------+------+--------+-----------+------------+----------------+--------+-------+-------+-----------+\n",
      "|0W4NhJhcqKCqEP2GI...|       0.688| 0.519|  -4.285|     0.0283|       0.064|             0.0|     0.1|  0.318|116.714|     255333|\n",
      "|0iGR60UzkFoyAZ1uN...|       0.495| 0.894|  -4.814|     0.0441|     0.00453|         5.96E-4|   0.103|  0.213| 126.03|     239894|\n",
      "|0qcjuYtMWhBjXg0Xw...|        0.94| 0.633|   -3.56|     0.0467|      0.0581|         4.04E-5|   0.281|  0.962|121.003|     248680|\n",
      "|232puZVLpayvhEMel...|       0.729| 0.675|  -6.003|     0.0312|       0.175|         1.58E-6|    0.55|  0.779|119.968|     245866|\n",
      "|2aibwv5hGXSgw7Yru...|       0.427|   0.9|  -3.674|     0.0499|       0.116|         1.75E-5|   0.119|  0.599|104.655|     334666|\n",
      "+--------------------+------------+------+--------+-----------+------------+----------------+--------+-------+-------+-----------+\n",
      "only showing top 5 rows\n",
      "\n"
     ]
    }
   ],
   "source": [
    "feature_path = \"hdfs://namenode:8020/silver_layer/silver_feature_music.parquet\"\n",
    "tracks_path = \"hdfs://namenode:8020/silver_layer/tracks_data.parquet\"\n",
    "output_path = \"hdfs://namenode:8020/gold_layer/gold_feature_matrix.parquet\"\n",
    "\n",
    "features_df = spark.read.parquet(feature_path).withColumnRenamed(\"track\", \"track_name\")\n",
    "\n",
    "tracks_df = spark.read.parquet(tracks_path).selectExpr(\n",
    "    \"track_id\", \"name as track_name\", \"artist_id as track_artist_id\"\n",
    ")\n",
    "\n",
    "artists_df = spark.read.parquet(\"hdfs://namenode:8020/silver_layer/silver_artists.parquet\").selectExpr(\n",
    "    \"artist_id\", \"name as artist_name\"\n",
    ")\n",
    "\n",
    "tracks_joined = tracks_df.join(\n",
    "    artists_df,\n",
    "    tracks_df[\"track_artist_id\"] == artists_df[\"artist_id\"],\n",
    "    how=\"left\"\n",
    ").select(\"track_id\", \"track_name\", \"artist_name\")\n",
    "\n",
    "df_joined = features_df.join(\n",
    "    tracks_joined,\n",
    "    on=(features_df[\"track_name\"] == tracks_joined[\"track_name\"]) &\n",
    "       (features_df[\"artist\"] == tracks_joined[\"artist_name\"]),\n",
    "    how=\"inner\"\n",
    ")\n",
    "\n",
    "feature_cols = ['track_id', 'danceability', 'energy', 'loudness', 'speechiness',\n",
    "                'acousticness', 'instrumentalness', 'liveness', 'valence',\n",
    "                'tempo', 'duration_ms']\n",
    "\n",
    "final_df = df_joined.select(feature_cols).dropDuplicates([\"track_id\"])\n",
    "\n",
    "final_df.write.mode(\"overwrite\").parquet(output_path)\n",
    "\n",
    "final_df.show(5)\n"
   ]
  },
  {
   "cell_type": "code",
   "execution_count": 55,
   "id": "55f3a7c7-8aea-4396-8550-56e4339be1d6",
   "metadata": {},
   "outputs": [
    {
     "data": {
      "text/plain": [
       "3981"
      ]
     },
     "execution_count": 55,
     "metadata": {},
     "output_type": "execute_result"
    }
   ],
   "source": [
    "final_df.select(\"track_id\").distinct().count()"
   ]
  },
  {
   "cell_type": "code",
   "execution_count": 45,
   "id": "e890c3d7-a76e-433a-a42e-950bc57a5c95",
   "metadata": {},
   "outputs": [],
   "source": [
    "feature_path = \"hdfs://namenode:8020/silver_layer/silver_feature_music.parquet\"\n",
    "df_feature = spark.read.parquet(feature_path)"
   ]
  },
  {
   "cell_type": "code",
   "execution_count": 46,
   "id": "7a0a8b2f-b4d1-4c1f-9715-5c85e6c821f7",
   "metadata": {},
   "outputs": [
    {
     "data": {
      "text/plain": [
       "1941"
      ]
     },
     "execution_count": 46,
     "metadata": {},
     "output_type": "execute_result"
    }
   ],
   "source": [
    "df_feature.count()"
   ]
  },
  {
   "cell_type": "code",
   "execution_count": 47,
   "id": "1223982e-3dc3-45be-b55e-07fb3256e6d8",
   "metadata": {},
   "outputs": [],
   "source": [
    "search_matrix  = \"hdfs://namenode:8020/gold_layer/gold_track_search_index.parquet\"\n",
    "df_feature = spark.read.parquet(search_matrix)"
   ]
  },
  {
   "cell_type": "code",
   "execution_count": 48,
   "id": "120e9742-be63-460b-b1fe-22d593712853",
   "metadata": {},
   "outputs": [
    {
     "data": {
      "text/plain": [
       "1758"
      ]
     },
     "execution_count": 48,
     "metadata": {},
     "output_type": "execute_result"
    }
   ],
   "source": [
    "df_feature.count()"
   ]
  },
  {
   "cell_type": "code",
   "execution_count": null,
   "id": "d0de81ea-a487-4a8d-a406-96cec4f335e2",
   "metadata": {},
   "outputs": [],
   "source": [
    "dashboard_warehouse = \"hdfs://namenode:8020/warehouse_layer/warehouse_track_dashboard.parquet\"\n"
   ]
  }
 ],
 "metadata": {
  "kernelspec": {
   "display_name": "Python 3 (ipykernel)",
   "language": "python",
   "name": "python3"
  },
  "language_info": {
   "codemirror_mode": {
    "name": "ipython",
    "version": 3
   },
   "file_extension": ".py",
   "mimetype": "text/x-python",
   "name": "python",
   "nbconvert_exporter": "python",
   "pygments_lexer": "ipython3",
   "version": "3.11.6"
  }
 },
 "nbformat": 4,
 "nbformat_minor": 5
}
