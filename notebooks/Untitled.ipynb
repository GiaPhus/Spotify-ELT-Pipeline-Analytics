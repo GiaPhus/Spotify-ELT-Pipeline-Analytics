{
 "cells": [
  {
   "cell_type": "code",
   "execution_count": 1,
   "id": "35ca81f0-b612-48fd-84fb-d95838bdd450",
   "metadata": {},
   "outputs": [],
   "source": [
    "from pyspark.sql import SparkSession\n",
    "from pyspark.sql.functions import col,explode\n",
    "from pyspark.sql.functions import regexp_replace\n",
    "from pyspark.sql.types import StringType\n",
    "from pyspark.sql.functions import split, explode, trim\n"
   ]
  },
  {
   "cell_type": "code",
   "execution_count": 20,
   "id": "882b88ff-a091-4bc3-93e5-634ed318c79f",
   "metadata": {},
   "outputs": [],
   "source": [
    "hdfs_uri = \"hdfs://namenode:8020/silver_layer/silver_artists_genres.parquet\"\n",
    "spark = SparkSession.builder.appName(\"Check Genres\").getOrCreate()"
   ]
  },
  {
   "cell_type": "code",
   "execution_count": 21,
   "id": "d52dc642-9b49-478d-bc9f-4dd7b76011c3",
   "metadata": {},
   "outputs": [],
   "source": [
    "df_genres = spark.read.parquet(hdfs_uri)"
   ]
  },
  {
   "cell_type": "code",
   "execution_count": 22,
   "id": "a729093b-6a20-4159-81ab-157631aad124",
   "metadata": {
    "scrolled": true
   },
   "outputs": [
    {
     "name": "stdout",
     "output_type": "stream",
     "text": [
      "root\n",
      " |-- artist_id: string (nullable = true)\n",
      " |-- name: string (nullable = true)\n",
      " |-- artists_genres: string (nullable = true)\n",
      "\n"
     ]
    }
   ],
   "source": [
    "df_genres.printSchema()"
   ]
  },
  {
   "cell_type": "code",
   "execution_count": 23,
   "id": "85d52859-7a37-427b-97c3-655fc7667f7b",
   "metadata": {},
   "outputs": [
    {
     "data": {
      "text/plain": [
       "5064"
      ]
     },
     "execution_count": 23,
     "metadata": {},
     "output_type": "execute_result"
    }
   ],
   "source": [
    "df_genres.distinct().count()"
   ]
  },
  {
   "cell_type": "code",
   "execution_count": 24,
   "id": "4c19f84d-ee57-468d-a657-bc2c22fac7c2",
   "metadata": {},
   "outputs": [
    {
     "name": "stdout",
     "output_type": "stream",
     "text": [
      "+-----+\n",
      "| name|\n",
      "+-----+\n",
      "|Drake|\n",
      "|Drake|\n",
      "+-----+\n",
      "\n"
     ]
    }
   ],
   "source": [
    "df_genres.select(\"name\").where(col(\"name\")==\"Drake\").show(5)"
   ]
  },
  {
   "cell_type": "code",
   "execution_count": 25,
   "id": "b0c2680a-c86d-4b27-a6f1-c84c08ed8924",
   "metadata": {},
   "outputs": [
    {
     "data": {
      "text/plain": [
       "2000"
      ]
     },
     "execution_count": 25,
     "metadata": {},
     "output_type": "execute_result"
    }
   ],
   "source": [
    "hdfs_uri_feature_bronze = \"hdfs://namenode:8020/bronze_layer/feature_music.parquet\"\n",
    "df_feature_bronze = spark.read.parquet(hdfs_uri_feature_bronze)\n",
    "df_feature_bronze.count()"
   ]
  },
  {
   "cell_type": "code",
   "execution_count": 26,
   "id": "00b218a3-edc8-4641-8995-f37ee67794a9",
   "metadata": {},
   "outputs": [
    {
     "name": "stdout",
     "output_type": "stream",
     "text": [
      "+------+-----------------+\n",
      "|artist|genre            |\n",
      "+------+-----------------+\n",
      "|Drake |hip hop, pop, R&B|\n",
      "|Drake |hip hop, pop, R&B|\n",
      "|Drake |hip hop, pop, R&B|\n",
      "|Drake |hip hop, pop, R&B|\n",
      "|Drake |hip hop, pop, R&B|\n",
      "+------+-----------------+\n",
      "only showing top 5 rows\n",
      "\n"
     ]
    }
   ],
   "source": [
    "df_feature_bronze.select(\"artist\", \"genre\").where(col(\"artist\") == \"Drake\").show(5, truncate=False)"
   ]
  },
  {
   "cell_type": "code",
   "execution_count": 27,
   "id": "efe72d1d-d0ef-45ea-8670-b9d58edb21a1",
   "metadata": {},
   "outputs": [],
   "source": [
    "df_Drake= df_genres.select(\"name\", \"artists_genres\").where(col(\"name\") == \"Drake\")"
   ]
  },
  {
   "cell_type": "code",
   "execution_count": 28,
   "id": "a87b5c6a-9ddb-4454-b5fb-dbe03f89a361",
   "metadata": {},
   "outputs": [],
   "source": [
    "artists_feature_genres = df_feature_bronze \\\n",
    "    .select(\"artist\", \"genre\") \\\n",
    "    .withColumn(\"genre\", explode(split(col(\"genre\"), \",\\s*\"))) \\\n",
    "    .distinct()"
   ]
  },
  {
   "cell_type": "code",
   "execution_count": 29,
   "id": "91ab3aa8-8635-41f5-a5c1-93dc1d506bdb",
   "metadata": {},
   "outputs": [],
   "source": [
    "df_Drake_feature = artists_feature_genres.select(\"artist\", \"genre\").where(col(\"artist\") == \"Drake\")"
   ]
  },
  {
   "cell_type": "code",
   "execution_count": 30,
   "id": "606b6d3c-a081-4b68-a0ab-692a79943eb3",
   "metadata": {},
   "outputs": [
    {
     "name": "stdout",
     "output_type": "stream",
     "text": [
      "df ở genres artists 5064\n",
      "genres ở Feature 1507\n"
     ]
    }
   ],
   "source": [
    "print(\"df ở genres artists\",df_genres.count())\n",
    "print(\"genres ở Feature\", artists_feature_genres.count())"
   ]
  },
  {
   "cell_type": "code",
   "execution_count": 31,
   "id": "e0d42dbf-abe1-4747-8508-38c164ada988",
   "metadata": {},
   "outputs": [
    {
     "name": "stdout",
     "output_type": "stream",
     "text": [
      "root\n",
      " |-- name: string (nullable = true)\n",
      " |-- artists_genres: string (nullable = true)\n",
      "\n"
     ]
    }
   ],
   "source": [
    "df_Drake.printSchema()"
   ]
  },
  {
   "cell_type": "code",
   "execution_count": 32,
   "id": "f39801f7-27e0-4718-9174-212f1854ae37",
   "metadata": {},
   "outputs": [
    {
     "name": "stdout",
     "output_type": "stream",
     "text": [
      "root\n",
      " |-- artist: string (nullable = true)\n",
      " |-- genre: string (nullable = false)\n",
      "\n"
     ]
    }
   ],
   "source": [
    "df_Drake_feature.printSchema()"
   ]
  },
  {
   "cell_type": "code",
   "execution_count": 33,
   "id": "7843655d-ddf2-42ae-8544-c71253892b59",
   "metadata": {},
   "outputs": [],
   "source": [
    "df_genres_1 = df_genres.select(col(\"name\").alias(\"artist\"), col(\"artists_genres\").alias(\"genre\"))\n",
    "df_genres_2 = df_feature_bronze.select(\"artist\", \"genre\")"
   ]
  },
  {
   "cell_type": "code",
   "execution_count": 40,
   "id": "265d9b83-b1a2-40c4-ba32-f9a5542b2352",
   "metadata": {},
   "outputs": [
    {
     "name": "stdout",
     "output_type": "stream",
     "text": [
      "+----------------------+----------------------+---------------+\n",
      "|artist_id             |artist                |genre          |\n",
      "+----------------------+----------------------+---------------+\n",
      "|00YTqRClk82aMchQQpYMd5|Our Last Night        |metalcore      |\n",
      "|00YTqRClk82aMchQQpYMd5|Our Last Night        |post-hardcore  |\n",
      "|00me4Ke1LsvMxt5kydlMyU|Cosculluela           |latin hip hop  |\n",
      "|00me4Ke1LsvMxt5kydlMyU|Cosculluela           |reggaeton      |\n",
      "|00me4Ke1LsvMxt5kydlMyU|Cosculluela           |trap latino    |\n",
      "|00sCATpEvwH48ays7PlQFU|Jonita Gandhi         |bollywood      |\n",
      "|00sCATpEvwH48ays7PlQFU|Jonita Gandhi         |desi           |\n",
      "|00sCATpEvwH48ays7PlQFU|Jonita Gandhi         |hindi pop      |\n",
      "|00sCATpEvwH48ays7PlQFU|Jonita Gandhi         |kollywood      |\n",
      "|00sCATpEvwH48ays7PlQFU|Jonita Gandhi         |tamil dance    |\n",
      "|00sCATpEvwH48ays7PlQFU|Jonita Gandhi         |tamil pop      |\n",
      "|00tVTdpEhQQw1bqdu8RCx2|Blue Öyster Cult      |classic rock   |\n",
      "|00tVTdpEhQQw1bqdu8RCx2|Blue Öyster Cult      |hard rock      |\n",
      "|014WIDx7H4BRCHB1faiisK|Los Tucanes De Tijuana|banda          |\n",
      "|014WIDx7H4BRCHB1faiisK|Los Tucanes De Tijuana|corrido        |\n",
      "|014WIDx7H4BRCHB1faiisK|Los Tucanes De Tijuana|cumbia norteña |\n",
      "|014WIDx7H4BRCHB1faiisK|Los Tucanes De Tijuana|música mexicana|\n",
      "|014WIDx7H4BRCHB1faiisK|Los Tucanes De Tijuana|norteño        |\n",
      "|01m2XZ7m7rAz6KY3scTdaV|Neo Pistea            |argentine trap |\n",
      "|01m2XZ7m7rAz6KY3scTdaV|Neo Pistea            |trap           |\n",
      "+----------------------+----------------------+---------------+\n",
      "only showing top 20 rows\n",
      "\n"
     ]
    }
   ],
   "source": [
    "df_combined = df_genres_1.union(df_genres_2)\n",
    "df_cleaned = df_combined.withColumn(\"genre\", explode(split(col(\"genre\"), \",\")))\n",
    "df_cleaned = df_cleaned.withColumn(\"genre\", trim(col(\"genre\")))\n",
    "df_no_id = df_cleaned.dropDuplicates([\"artist\", \"genre\"])\n",
    "artist_id_map = df_genres.select(col(\"name\").alias(\"artist\"), col(\"artist_id\")).distinct()\n",
    "df_with_id = df_no_id.join(artist_id_map, on=\"artist\", how=\"left\")\n",
    "df_with_id = df_with_id.select(\"artist_id\", \"artist\", \"genre\").dropDuplicates([\"artist_id\", \"genre\"])\n",
    "df_with_id = df_with_id.filter(col(\"artist_id\").isNotNull())\n",
    "df_with_id.show(truncate=False)"
   ]
  },
  {
   "cell_type": "code",
   "execution_count": 42,
   "id": "ed45fe96-3dfe-4985-9c0a-308e2cabc20e",
   "metadata": {},
   "outputs": [
    {
     "data": {
      "text/plain": [
       "5459"
      ]
     },
     "execution_count": 42,
     "metadata": {},
     "output_type": "execute_result"
    }
   ],
   "source": [
    "df_with_id.select(\"artist\").count()\n"
   ]
  },
  {
   "cell_type": "markdown",
   "id": "cb148e53-12c7-4a0d-ad5d-ac780539aed3",
   "metadata": {},
   "source": [
    "<h1> Prepare Gold Layer </h1>"
   ]
  },
  {
   "cell_type": "code",
   "execution_count": 36,
   "id": "85d85ff8-36ea-417a-801b-5ea8af30c2cd",
   "metadata": {},
   "outputs": [],
   "source": [
    "artists = \"hdfs://namenode:8020/silver_layer/silver_artists.parquet\"\n",
    "albums = \"hdfs://namenode:8020/silver_layer/silver_album.parquet\"\n",
    "artists_genres = \"hdfs://namenode:8020/silver_layer/silver_artists_genres.parquet\"\n",
    "feature_music = \"hdfs://namenode:8020/silver_layer/silver_feature_music.parquet\"\n",
    "tracks = \"hdfs://namenode:8020/silver_layer/tracks_data.parquet\"\n",
    "\n",
    "spark = SparkSession.builder.appName(\"Gold_Layer_Processing\").getOrCreate()"
   ]
  },
  {
   "cell_type": "code",
   "execution_count": 37,
   "id": "55ec1696-343d-40b1-aed5-247abed41d8d",
   "metadata": {},
   "outputs": [],
   "source": [
    "artists_df = spark.read.parquet(artists)\n",
    "albums_df = spark.read.parquet(albums)\n",
    "artists_genres_df = spark.read.parquet(artists_genres)\n",
    "feature_music_df = spark.read.parquet(feature_music)\n",
    "tracks_df = spark.read.parquet(tracks)"
   ]
  },
  {
   "cell_type": "code",
   "execution_count": 10,
   "id": "6c8a8af5-6a58-4926-8872-362814c4b75b",
   "metadata": {},
   "outputs": [
    {
     "name": "stdout",
     "output_type": "stream",
     "text": [
      "-RECORD 0---------------------------------------------------------------------------------\n",
      " id                    | 00FQb4jTyendYWaN8pK0wa                                           \n",
      " name                  | Lana Del Rey                                                     \n",
      " popularity            | 91                                                               \n",
      " type                  | artist                                                           \n",
      " uri                   | spotify:artist:00FQb4jTyendYWaN8pK0wa                            \n",
      " artist_id             | 00FQb4jTyendYWaN8pK0wa                                           \n",
      " external_urls_artists | https://open.spotify.com/artist/00FQb4jTyendYWaN8pK0wa           \n",
      " followers number      | 45985411                                                         \n",
      " images_artists        | https://i.scdn.co/image/ab6761610000e5ebb99cacf8acd5378206767261 \n",
      "-RECORD 1---------------------------------------------------------------------------------\n",
      " id                    | 00YTqRClk82aMchQQpYMd5                                           \n",
      " name                  | Our Last Night                                                   \n",
      " popularity            | 64                                                               \n",
      " type                  | artist                                                           \n",
      " uri                   | spotify:artist:00YTqRClk82aMchQQpYMd5                            \n",
      " artist_id             | 00YTqRClk82aMchQQpYMd5                                           \n",
      " external_urls_artists | https://open.spotify.com/artist/00YTqRClk82aMchQQpYMd5           \n",
      " followers number      | 1170608                                                          \n",
      " images_artists        | https://i.scdn.co/image/ab6761610000e5eb82df4aa3b200e9f544e54a5a \n",
      "only showing top 2 rows\n",
      "\n",
      "-RECORD 0----------------------------------------------------------------------------------\n",
      " album_type             | single                                                           \n",
      " artist_id              | 4fdCGYM7dtJLa3LvR1ccto                                           \n",
      " id                     | 009S3gREumxdbFjf2roqlU                                           \n",
      " label                  | Onimusic                                                         \n",
      " popularity             | 25                                                               \n",
      " release_date           | 2024-10-10                                                       \n",
      " release_date_precision | day                                                              \n",
      " total_tracks           | 4                                                                \n",
      " type                   | album                                                            \n",
      " uri                    | open.spotify.com/album/009S3gREumxdbFjf2roqlU                    \n",
      " album_id               | 009S3gREumxdbFjf2roqlU                                           \n",
      " external_urls_albums   | https://open.spotify.com/album/009S3gREumxdbFjf2roqlU            \n",
      " album_name             | Gratidão                                                         \n",
      " image_album            | https://i.scdn.co/image/ab67616d0000b273de314cd81eb7d36413470827 \n",
      "-RECORD 1----------------------------------------------------------------------------------\n",
      " album_type             | compilation                                                      \n",
      " artist_id              | 0vEsuISMWAKNctLlUAhSZC                                           \n",
      " id                     | 009d83fu2guwouIwqr7i9E                                           \n",
      " label                  | Dreamworks - Shrek II                                            \n",
      " popularity             | 64                                                               \n",
      " release_date           | 2004-05-19                                                       \n",
      " release_date_precision | day                                                              \n",
      " total_tracks           | 14                                                               \n",
      " type                   | album                                                            \n",
      " uri                    | open.spotify.com/album/009d83fu2guwouIwqr7i9E                    \n",
      " album_id               | 009d83fu2guwouIwqr7i9E                                           \n",
      " external_urls_albums   | https://open.spotify.com/album/009d83fu2guwouIwqr7i9E            \n",
      " album_name             | Shrek 2 (Original Motion Picture Soundtrack)                     \n",
      " image_album            | https://i.scdn.co/image/ab67616d0000b273a895c616f899f06429bc8b4f \n",
      "only showing top 2 rows\n",
      "\n",
      "-RECORD 0---------------------------\n",
      " artist_id | 00YTqRClk82aMchQQpYMd5 \n",
      " artist    | Our Last Night         \n",
      " genre     | metalcore              \n",
      "-RECORD 1---------------------------\n",
      " artist_id | 00YTqRClk82aMchQQpYMd5 \n",
      " artist    | Our Last Night         \n",
      " genre     | post-hardcore          \n",
      "only showing top 2 rows\n",
      "\n",
      "-RECORD 0-------------------------------------------------\n",
      " acousticness     | 0.0173                                \n",
      " artist           | Gigi D'Agostino                       \n",
      " danceability     | 0.74                                  \n",
      " duration_ms      | 285426                                \n",
      " energy           | 0.876                                 \n",
      " explicit         | False                                 \n",
      " genre            | pop                                   \n",
      " instrumentalness | 0.00152                               \n",
      " key              | 6                                     \n",
      " liveness         | 0.0785                                \n",
      " loudness         | -6.87                                 \n",
      " mode             | 0                                     \n",
      " popularity       | 64                                    \n",
      " song             | The Riddle                            \n",
      " speechiness      | 0.0369                                \n",
      " valence          | 0.825                                 \n",
      " tempo            | 127.002                               \n",
      " year             | 1999                                  \n",
      " track            | The Riddle                            \n",
      "-RECORD 1-------------------------------------------------\n",
      " acousticness     | 0.123                                 \n",
      " artist           | DJ Ötzi                               \n",
      " danceability     | 0.666                                 \n",
      " duration_ms      | 219240                                \n",
      " energy           | 0.968                                 \n",
      " explicit         | False                                 \n",
      " genre            | pop, easy listening, Dance/Electronic \n",
      " instrumentalness | 0.0                                   \n",
      " key              | 10                                    \n",
      " liveness         | 0.347                                 \n",
      " loudness         | -3.196                                \n",
      " mode             | 1                                     \n",
      " popularity       | 58                                    \n",
      " song             | Hey Baby (Radio Mix)                  \n",
      " speechiness      | 0.046                                 \n",
      " valence          | 0.834                                 \n",
      " tempo            | 135.099                               \n",
      " year             | 2010                                  \n",
      " track            | Hey Baby (Radio Mix)                  \n",
      "only showing top 2 rows\n",
      "\n",
      "-RECORD 0---------------------------------------------------------------------\n",
      " artist_id            | 0qSX3s5pJnAlSsgsCne8Cz                                \n",
      " album_id             | 6bn1TML338LShzJsuhxbj5                                \n",
      " disc_number          | 1                                                     \n",
      " duration_ms          | 179826                                                \n",
      " explicit             | false                                                 \n",
      " id                   | 000KKisPBgKkWwRSxIzsnE                                \n",
      " is_local             | false                                                 \n",
      " name                 | Beat of the Music                                     \n",
      " popularity           | 19                                                    \n",
      " preview_url          | null                                                  \n",
      " track_number         | 7                                                     \n",
      " type                 | track                                                 \n",
      " uri                  | open.spotify.com/track/000KKisPBgKkWwRSxIzsnE         \n",
      " track_id             | 000KKisPBgKkWwRSxIzsnE                                \n",
      " external_urls_tracks | https://open.spotify.com/track/000KKisPBgKkWwRSxIzsnE \n",
      "-RECORD 1---------------------------------------------------------------------\n",
      " artist_id            | 54R6Y0I7jGUCveDTtI21nb                                \n",
      " album_id             | 2B780cgk4dXO3GK2l9NBnn                                \n",
      " disc_number          | 1                                                     \n",
      " duration_ms          | 192434                                                \n",
      " explicit             | false                                                 \n",
      " id                   | 000V86A5s6gAGp73ucRnmD                                \n",
      " is_local             | false                                                 \n",
      " name                 | Sunny (feat. Connor Price)                            \n",
      " popularity           | 43                                                    \n",
      " preview_url          | null                                                  \n",
      " track_number         | 1                                                     \n",
      " type                 | track                                                 \n",
      " uri                  | open.spotify.com/track/000V86A5s6gAGp73ucRnmD         \n",
      " track_id             | 000V86A5s6gAGp73ucRnmD                                \n",
      " external_urls_tracks | https://open.spotify.com/track/000V86A5s6gAGp73ucRnmD \n",
      "only showing top 2 rows\n",
      "\n"
     ]
    }
   ],
   "source": [
    "artists_df.show(2, vertical=True, truncate=False)\n",
    "albums_df.show(2, vertical=True, truncate=False)\n",
    "artists_genres_df.show(2, vertical=True, truncate=False)\n",
    "feature_music_df.show(2, vertical=True, truncate=False)\n",
    "tracks_df.show(2, vertical=True, truncate=False)"
   ]
  },
  {
   "cell_type": "code",
   "execution_count": null,
   "id": "79cb0b03-553a-44f7-8fa1-d2b81ccdb835",
   "metadata": {},
   "outputs": [],
   "source": [
    "artists_data.show(2, vertical=True, truncate=False)"
   ]
  },
  {
   "cell_type": "markdown",
   "id": "3ecea217-3249-4716-ba23-eee552f7523c",
   "metadata": {},
   "source": [
    "<h1> gold_track_metadata </h1>"
   ]
  },
  {
   "cell_type": "code",
   "execution_count": 19,
   "id": "d069e497-930f-40b0-86a9-08a42a980c6e",
   "metadata": {},
   "outputs": [
    {
     "ename": "AnalysisException",
     "evalue": "[UNRESOLVED_COLUMN.WITH_SUGGESTION] A column or function parameter with name `artists`.`artist_id` cannot be resolved. Did you mean one of the following? [`artist_id`, `artist_id`, `artist_name`, `images_artists`, `artist`].;\n'Project [track_id#2380, track#2397, external_urls_tracks#2381, 'artists.artist_id, artist_name#2460, followers number#2449, images_artists#2450, external_urls_artists#2448, album_id#2368, album_name#2426, release_date#2419, image_album#2427, external_urls_albums#2425, duration_ms#2370L, explicit#2371, genre#2473]\n+- Project [artist_id#2367, album_id#2368, disc_number#2369, duration_ms#2370L, explicit#2371, id#2372, is_local#2373, track#2397, popularity#2375, preview_url#2376, track_number#2377, type#2378, uri#2379, track_id#2380, external_urls_tracks#2381, album_type#2414, artist_id#2415, id#2416, label#2417, popularity#2418, release_date#2419, release_date_precision#2420, total_tracks#2421, type#2422, ... 14 more fields]\n   +- Join LeftOuter, (artist_id#2367 = artist_id#2471)\n      :- Project [artist_id#2367, album_id#2368, disc_number#2369, duration_ms#2370L, explicit#2371, id#2372, is_local#2373, track#2397, popularity#2375, preview_url#2376, track_number#2377, type#2378, uri#2379, track_id#2380, external_urls_tracks#2381, album_type#2414, artist_id#2415, id#2416, label#2417, popularity#2418, release_date#2419, release_date_precision#2420, total_tracks#2421, type#2422, ... 12 more fields]\n      :  +- Join LeftOuter, (artist_id#2367 = artist_id#2447)\n      :     :- Project [album_id#2368, artist_id#2367, disc_number#2369, duration_ms#2370L, explicit#2371, id#2372, is_local#2373, track#2397, popularity#2375, preview_url#2376, track_number#2377, type#2378, uri#2379, track_id#2380, external_urls_tracks#2381, album_type#2414, artist_id#2415, id#2416, label#2417, popularity#2418, release_date#2419, release_date_precision#2420, total_tracks#2421, type#2422, ... 4 more fields]\n      :     :  +- Join LeftOuter, (album_id#2368 = album_id#2424)\n      :     :     :- Project [artist_id#2367, album_id#2368, disc_number#2369, duration_ms#2370L, explicit#2371, id#2372, is_local#2373, name#2374 AS track#2397, popularity#2375, preview_url#2376, track_number#2377, type#2378, uri#2379, track_id#2380, external_urls_tracks#2381]\n      :     :     :  +- Relation [artist_id#2367,album_id#2368,disc_number#2369,duration_ms#2370L,explicit#2371,id#2372,is_local#2373,name#2374,popularity#2375,preview_url#2376,track_number#2377,type#2378,uri#2379,track_id#2380,external_urls_tracks#2381] parquet\n      :     :     +- Relation [album_type#2414,artist_id#2415,id#2416,label#2417,popularity#2418,release_date#2419,release_date_precision#2420,total_tracks#2421,type#2422,uri#2423,album_id#2424,external_urls_albums#2425,album_name#2426,image_album#2427] parquet\n      :     +- Project [id#2442, name#2443 AS artist_name#2460, popularity#2444, type#2445, uri#2446, artist_id#2447, external_urls_artists#2448, followers number#2449, images_artists#2450]\n      :        +- Relation [id#2442,name#2443,popularity#2444,type#2445,uri#2446,artist_id#2447,external_urls_artists#2448,followers number#2449,images_artists#2450] parquet\n      +- Relation [artist_id#2471,artist#2472,genre#2473] parquet\n",
     "output_type": "error",
     "traceback": [
      "\u001b[0;31m---------------------------------------------------------------------------\u001b[0m",
      "\u001b[0;31mAnalysisException\u001b[0m                         Traceback (most recent call last)",
      "Cell \u001b[0;32mIn[19], line 15\u001b[0m\n\u001b[1;32m      7\u001b[0m genre \u001b[38;5;241m=\u001b[39m spark\u001b[38;5;241m.\u001b[39mread\u001b[38;5;241m.\u001b[39mparquet(\u001b[38;5;124m\"\u001b[39m\u001b[38;5;124mhdfs://namenode:8020/silver_layer/silver_artists_genres.parquet\u001b[39m\u001b[38;5;124m\"\u001b[39m)\n\u001b[1;32m      9\u001b[0m df \u001b[38;5;241m=\u001b[39m (\n\u001b[1;32m     10\u001b[0m     tracks\u001b[38;5;241m.\u001b[39mjoin(albums, on\u001b[38;5;241m=\u001b[39m\u001b[38;5;124m\"\u001b[39m\u001b[38;5;124malbum_id\u001b[39m\u001b[38;5;124m\"\u001b[39m, how\u001b[38;5;241m=\u001b[39m\u001b[38;5;124m\"\u001b[39m\u001b[38;5;124mleft\u001b[39m\u001b[38;5;124m\"\u001b[39m)\n\u001b[1;32m     11\u001b[0m           \u001b[38;5;241m.\u001b[39mjoin(artists, on\u001b[38;5;241m=\u001b[39m\u001b[38;5;124m\"\u001b[39m\u001b[38;5;124martist_id\u001b[39m\u001b[38;5;124m\"\u001b[39m, how\u001b[38;5;241m=\u001b[39m\u001b[38;5;124m\"\u001b[39m\u001b[38;5;124mleft\u001b[39m\u001b[38;5;124m\"\u001b[39m)\n\u001b[1;32m     12\u001b[0m           \u001b[38;5;241m.\u001b[39mjoin(genre, on\u001b[38;5;241m=\u001b[39m\u001b[38;5;124m\"\u001b[39m\u001b[38;5;124martist_id\u001b[39m\u001b[38;5;124m\"\u001b[39m, how\u001b[38;5;241m=\u001b[39m\u001b[38;5;124m\"\u001b[39m\u001b[38;5;124mleft\u001b[39m\u001b[38;5;124m\"\u001b[39m)\n\u001b[1;32m     13\u001b[0m )\n\u001b[0;32m---> 15\u001b[0m df \u001b[38;5;241m=\u001b[39m \u001b[43mdf\u001b[49m\u001b[38;5;241;43m.\u001b[39;49m\u001b[43mselect\u001b[49m\u001b[43m(\u001b[49m\n\u001b[1;32m     16\u001b[0m \u001b[43m    \u001b[49m\u001b[38;5;124;43m\"\u001b[39;49m\u001b[38;5;124;43mtrack_id\u001b[39;49m\u001b[38;5;124;43m\"\u001b[39;49m\u001b[43m,\u001b[49m\u001b[43m \u001b[49m\u001b[38;5;124;43m\"\u001b[39;49m\u001b[38;5;124;43mtrack\u001b[39;49m\u001b[38;5;124;43m\"\u001b[39;49m\u001b[43m,\u001b[49m\u001b[43m \u001b[49m\u001b[38;5;124;43m\"\u001b[39;49m\u001b[38;5;124;43mexternal_urls_tracks\u001b[39;49m\u001b[38;5;124;43m\"\u001b[39;49m\u001b[43m,\u001b[49m\n\u001b[1;32m     17\u001b[0m \u001b[43m    \u001b[49m\u001b[38;5;124;43m\"\u001b[39;49m\u001b[38;5;124;43martists.artist_id\u001b[39;49m\u001b[38;5;124;43m\"\u001b[39;49m\u001b[43m,\u001b[49m\u001b[43m \u001b[49m\u001b[38;5;124;43m\"\u001b[39;49m\u001b[38;5;124;43martist_name\u001b[39;49m\u001b[38;5;124;43m\"\u001b[39;49m\u001b[43m,\u001b[49m\u001b[43m \u001b[49m\u001b[38;5;124;43m\"\u001b[39;49m\u001b[38;5;124;43mfollowers number\u001b[39;49m\u001b[38;5;124;43m\"\u001b[39;49m\u001b[43m,\u001b[49m\u001b[43m \u001b[49m\u001b[38;5;124;43m\"\u001b[39;49m\u001b[38;5;124;43mimages_artists\u001b[39;49m\u001b[38;5;124;43m\"\u001b[39;49m\u001b[43m,\u001b[49m\u001b[43m \u001b[49m\u001b[38;5;124;43m\"\u001b[39;49m\u001b[38;5;124;43mexternal_urls_artists\u001b[39;49m\u001b[38;5;124;43m\"\u001b[39;49m\u001b[43m,\u001b[49m\n\u001b[1;32m     18\u001b[0m \u001b[43m    \u001b[49m\u001b[38;5;124;43m\"\u001b[39;49m\u001b[38;5;124;43malbum_id\u001b[39;49m\u001b[38;5;124;43m\"\u001b[39;49m\u001b[43m,\u001b[49m\u001b[43m \u001b[49m\u001b[38;5;124;43m\"\u001b[39;49m\u001b[38;5;124;43malbum_name\u001b[39;49m\u001b[38;5;124;43m\"\u001b[39;49m\u001b[43m,\u001b[49m\u001b[43m \u001b[49m\u001b[38;5;124;43m\"\u001b[39;49m\u001b[38;5;124;43mrelease_date\u001b[39;49m\u001b[38;5;124;43m\"\u001b[39;49m\u001b[43m,\u001b[49m\u001b[43m \u001b[49m\u001b[38;5;124;43m\"\u001b[39;49m\u001b[38;5;124;43mimage_album\u001b[39;49m\u001b[38;5;124;43m\"\u001b[39;49m\u001b[43m,\u001b[49m\u001b[43m \u001b[49m\u001b[38;5;124;43m\"\u001b[39;49m\u001b[38;5;124;43mexternal_urls_albums\u001b[39;49m\u001b[38;5;124;43m\"\u001b[39;49m\u001b[43m,\u001b[49m\n\u001b[1;32m     19\u001b[0m \u001b[43m    \u001b[49m\u001b[38;5;124;43m\"\u001b[39;49m\u001b[38;5;124;43mduration_ms\u001b[39;49m\u001b[38;5;124;43m\"\u001b[39;49m\u001b[43m,\u001b[49m\u001b[43m \u001b[49m\u001b[38;5;124;43m\"\u001b[39;49m\u001b[38;5;124;43mexplicit\u001b[39;49m\u001b[38;5;124;43m\"\u001b[39;49m\u001b[43m,\u001b[49m\u001b[43m \u001b[49m\u001b[38;5;124;43m\"\u001b[39;49m\u001b[38;5;124;43mgenre\u001b[39;49m\u001b[38;5;124;43m\"\u001b[39;49m\n\u001b[1;32m     20\u001b[0m \u001b[43m)\u001b[49m\n",
      "File \u001b[0;32m/usr/local/spark/python/pyspark/sql/dataframe.py:3038\u001b[0m, in \u001b[0;36mDataFrame.select\u001b[0;34m(self, *cols)\u001b[0m\n\u001b[1;32m   2993\u001b[0m \u001b[38;5;28;01mdef\u001b[39;00m \u001b[38;5;21mselect\u001b[39m(\u001b[38;5;28mself\u001b[39m, \u001b[38;5;241m*\u001b[39mcols: \u001b[38;5;124m\"\u001b[39m\u001b[38;5;124mColumnOrName\u001b[39m\u001b[38;5;124m\"\u001b[39m) \u001b[38;5;241m-\u001b[39m\u001b[38;5;241m>\u001b[39m \u001b[38;5;124m\"\u001b[39m\u001b[38;5;124mDataFrame\u001b[39m\u001b[38;5;124m\"\u001b[39m:  \u001b[38;5;66;03m# type: ignore[misc]\u001b[39;00m\n\u001b[1;32m   2994\u001b[0m \u001b[38;5;250m    \u001b[39m\u001b[38;5;124;03m\"\"\"Projects a set of expressions and returns a new :class:`DataFrame`.\u001b[39;00m\n\u001b[1;32m   2995\u001b[0m \n\u001b[1;32m   2996\u001b[0m \u001b[38;5;124;03m    .. versionadded:: 1.3.0\u001b[39;00m\n\u001b[0;32m   (...)\u001b[0m\n\u001b[1;32m   3036\u001b[0m \u001b[38;5;124;03m    +-----+---+\u001b[39;00m\n\u001b[1;32m   3037\u001b[0m \u001b[38;5;124;03m    \"\"\"\u001b[39;00m\n\u001b[0;32m-> 3038\u001b[0m     jdf \u001b[38;5;241m=\u001b[39m \u001b[38;5;28;43mself\u001b[39;49m\u001b[38;5;241;43m.\u001b[39;49m\u001b[43m_jdf\u001b[49m\u001b[38;5;241;43m.\u001b[39;49m\u001b[43mselect\u001b[49m\u001b[43m(\u001b[49m\u001b[38;5;28;43mself\u001b[39;49m\u001b[38;5;241;43m.\u001b[39;49m\u001b[43m_jcols\u001b[49m\u001b[43m(\u001b[49m\u001b[38;5;241;43m*\u001b[39;49m\u001b[43mcols\u001b[49m\u001b[43m)\u001b[49m\u001b[43m)\u001b[49m\n\u001b[1;32m   3039\u001b[0m     \u001b[38;5;28;01mreturn\u001b[39;00m DataFrame(jdf, \u001b[38;5;28mself\u001b[39m\u001b[38;5;241m.\u001b[39msparkSession)\n",
      "File \u001b[0;32m/usr/local/spark/python/lib/py4j-0.10.9.7-src.zip/py4j/java_gateway.py:1322\u001b[0m, in \u001b[0;36mJavaMember.__call__\u001b[0;34m(self, *args)\u001b[0m\n\u001b[1;32m   1316\u001b[0m command \u001b[38;5;241m=\u001b[39m proto\u001b[38;5;241m.\u001b[39mCALL_COMMAND_NAME \u001b[38;5;241m+\u001b[39m\\\n\u001b[1;32m   1317\u001b[0m     \u001b[38;5;28mself\u001b[39m\u001b[38;5;241m.\u001b[39mcommand_header \u001b[38;5;241m+\u001b[39m\\\n\u001b[1;32m   1318\u001b[0m     args_command \u001b[38;5;241m+\u001b[39m\\\n\u001b[1;32m   1319\u001b[0m     proto\u001b[38;5;241m.\u001b[39mEND_COMMAND_PART\n\u001b[1;32m   1321\u001b[0m answer \u001b[38;5;241m=\u001b[39m \u001b[38;5;28mself\u001b[39m\u001b[38;5;241m.\u001b[39mgateway_client\u001b[38;5;241m.\u001b[39msend_command(command)\n\u001b[0;32m-> 1322\u001b[0m return_value \u001b[38;5;241m=\u001b[39m \u001b[43mget_return_value\u001b[49m\u001b[43m(\u001b[49m\n\u001b[1;32m   1323\u001b[0m \u001b[43m    \u001b[49m\u001b[43manswer\u001b[49m\u001b[43m,\u001b[49m\u001b[43m \u001b[49m\u001b[38;5;28;43mself\u001b[39;49m\u001b[38;5;241;43m.\u001b[39;49m\u001b[43mgateway_client\u001b[49m\u001b[43m,\u001b[49m\u001b[43m \u001b[49m\u001b[38;5;28;43mself\u001b[39;49m\u001b[38;5;241;43m.\u001b[39;49m\u001b[43mtarget_id\u001b[49m\u001b[43m,\u001b[49m\u001b[43m \u001b[49m\u001b[38;5;28;43mself\u001b[39;49m\u001b[38;5;241;43m.\u001b[39;49m\u001b[43mname\u001b[49m\u001b[43m)\u001b[49m\n\u001b[1;32m   1325\u001b[0m \u001b[38;5;28;01mfor\u001b[39;00m temp_arg \u001b[38;5;129;01min\u001b[39;00m temp_args:\n\u001b[1;32m   1326\u001b[0m     \u001b[38;5;28;01mif\u001b[39;00m \u001b[38;5;28mhasattr\u001b[39m(temp_arg, \u001b[38;5;124m\"\u001b[39m\u001b[38;5;124m_detach\u001b[39m\u001b[38;5;124m\"\u001b[39m):\n",
      "File \u001b[0;32m/usr/local/spark/python/pyspark/errors/exceptions/captured.py:175\u001b[0m, in \u001b[0;36mcapture_sql_exception.<locals>.deco\u001b[0;34m(*a, **kw)\u001b[0m\n\u001b[1;32m    171\u001b[0m converted \u001b[38;5;241m=\u001b[39m convert_exception(e\u001b[38;5;241m.\u001b[39mjava_exception)\n\u001b[1;32m    172\u001b[0m \u001b[38;5;28;01mif\u001b[39;00m \u001b[38;5;129;01mnot\u001b[39;00m \u001b[38;5;28misinstance\u001b[39m(converted, UnknownException):\n\u001b[1;32m    173\u001b[0m     \u001b[38;5;66;03m# Hide where the exception came from that shows a non-Pythonic\u001b[39;00m\n\u001b[1;32m    174\u001b[0m     \u001b[38;5;66;03m# JVM exception message.\u001b[39;00m\n\u001b[0;32m--> 175\u001b[0m     \u001b[38;5;28;01mraise\u001b[39;00m converted \u001b[38;5;28;01mfrom\u001b[39;00m \u001b[38;5;28;01mNone\u001b[39;00m\n\u001b[1;32m    176\u001b[0m \u001b[38;5;28;01melse\u001b[39;00m:\n\u001b[1;32m    177\u001b[0m     \u001b[38;5;28;01mraise\u001b[39;00m\n",
      "\u001b[0;31mAnalysisException\u001b[0m: [UNRESOLVED_COLUMN.WITH_SUGGESTION] A column or function parameter with name `artists`.`artist_id` cannot be resolved. Did you mean one of the following? [`artist_id`, `artist_id`, `artist_name`, `images_artists`, `artist`].;\n'Project [track_id#2380, track#2397, external_urls_tracks#2381, 'artists.artist_id, artist_name#2460, followers number#2449, images_artists#2450, external_urls_artists#2448, album_id#2368, album_name#2426, release_date#2419, image_album#2427, external_urls_albums#2425, duration_ms#2370L, explicit#2371, genre#2473]\n+- Project [artist_id#2367, album_id#2368, disc_number#2369, duration_ms#2370L, explicit#2371, id#2372, is_local#2373, track#2397, popularity#2375, preview_url#2376, track_number#2377, type#2378, uri#2379, track_id#2380, external_urls_tracks#2381, album_type#2414, artist_id#2415, id#2416, label#2417, popularity#2418, release_date#2419, release_date_precision#2420, total_tracks#2421, type#2422, ... 14 more fields]\n   +- Join LeftOuter, (artist_id#2367 = artist_id#2471)\n      :- Project [artist_id#2367, album_id#2368, disc_number#2369, duration_ms#2370L, explicit#2371, id#2372, is_local#2373, track#2397, popularity#2375, preview_url#2376, track_number#2377, type#2378, uri#2379, track_id#2380, external_urls_tracks#2381, album_type#2414, artist_id#2415, id#2416, label#2417, popularity#2418, release_date#2419, release_date_precision#2420, total_tracks#2421, type#2422, ... 12 more fields]\n      :  +- Join LeftOuter, (artist_id#2367 = artist_id#2447)\n      :     :- Project [album_id#2368, artist_id#2367, disc_number#2369, duration_ms#2370L, explicit#2371, id#2372, is_local#2373, track#2397, popularity#2375, preview_url#2376, track_number#2377, type#2378, uri#2379, track_id#2380, external_urls_tracks#2381, album_type#2414, artist_id#2415, id#2416, label#2417, popularity#2418, release_date#2419, release_date_precision#2420, total_tracks#2421, type#2422, ... 4 more fields]\n      :     :  +- Join LeftOuter, (album_id#2368 = album_id#2424)\n      :     :     :- Project [artist_id#2367, album_id#2368, disc_number#2369, duration_ms#2370L, explicit#2371, id#2372, is_local#2373, name#2374 AS track#2397, popularity#2375, preview_url#2376, track_number#2377, type#2378, uri#2379, track_id#2380, external_urls_tracks#2381]\n      :     :     :  +- Relation [artist_id#2367,album_id#2368,disc_number#2369,duration_ms#2370L,explicit#2371,id#2372,is_local#2373,name#2374,popularity#2375,preview_url#2376,track_number#2377,type#2378,uri#2379,track_id#2380,external_urls_tracks#2381] parquet\n      :     :     +- Relation [album_type#2414,artist_id#2415,id#2416,label#2417,popularity#2418,release_date#2419,release_date_precision#2420,total_tracks#2421,type#2422,uri#2423,album_id#2424,external_urls_albums#2425,album_name#2426,image_album#2427] parquet\n      :     +- Project [id#2442, name#2443 AS artist_name#2460, popularity#2444, type#2445, uri#2446, artist_id#2447, external_urls_artists#2448, followers number#2449, images_artists#2450]\n      :        +- Relation [id#2442,name#2443,popularity#2444,type#2445,uri#2446,artist_id#2447,external_urls_artists#2448,followers number#2449,images_artists#2450] parquet\n      +- Relation [artist_id#2471,artist#2472,genre#2473] parquet\n"
     ]
    }
   ],
   "source": [
    "tracks = spark.read.parquet(\"hdfs://namenode:8020/silver_layer/tracks_data.parquet\") \\\n",
    "                   .withColumnRenamed(\"name\", \"track\")\n",
    "albums = spark.read.parquet(\"hdfs://namenode:8020/silver_layer/silver_album.parquet\")\n",
    "\n",
    "artists = spark.read.parquet(\"hdfs://namenode:8020/silver_layer/silver_artists.parquet\") \\\n",
    "                    .withColumnRenamed(\"name\", \"artist_name\")\n",
    "genre = spark.read.parquet(\"hdfs://namenode:8020/silver_layer/silver_artists_genres.parquet\")\n",
    "\n",
    "df = (\n",
    "    tracks.join(albums, on=\"album_id\", how=\"left\")\n",
    "          .join(artists, on=\"artist_id\", how=\"left\")\n",
    "          .join(genre, on=\"artist_id\", how=\"left\")\n",
    ")\n",
    "\n",
    "df = df.select(\n",
    "    \"track_id\", \"track\", \"external_urls_tracks\",\n",
    "    \"artists.artist_id\", \"artist_name\", \"followers number\", \"images_artists\", \"external_urls_artists\",\n",
    "    \"album_id\", \"album_name\", \"release_date\", \"image_album\", \"external_urls_albums\",\n",
    "    \"duration_ms\", \"explicit\", \"genre\"\n",
    ")\n"
   ]
  },
  {
   "cell_type": "code",
   "execution_count": 38,
   "id": "8e66c290-e220-4638-8702-8ea7563a6066",
   "metadata": {},
   "outputs": [
    {
     "name": "stdout",
     "output_type": "stream",
     "text": [
      "root\n",
      " |-- id: string (nullable = true)\n",
      " |-- name: string (nullable = true)\n",
      " |-- popularity: integer (nullable = true)\n",
      " |-- type: string (nullable = true)\n",
      " |-- uri: string (nullable = true)\n",
      " |-- artist_id: string (nullable = true)\n",
      " |-- external_urls_artists: string (nullable = true)\n",
      " |-- followers number: integer (nullable = true)\n",
      " |-- images_artists: string (nullable = true)\n",
      "\n",
      "artists_DataFrame Schema  None\n",
      "root\n",
      " |-- album_type: string (nullable = true)\n",
      " |-- artist_id: string (nullable = true)\n",
      " |-- id: string (nullable = true)\n",
      " |-- label: string (nullable = true)\n",
      " |-- popularity: integer (nullable = true)\n",
      " |-- release_date: string (nullable = true)\n",
      " |-- release_date_precision: string (nullable = true)\n",
      " |-- total_tracks: integer (nullable = true)\n",
      " |-- type: string (nullable = true)\n",
      " |-- uri: string (nullable = true)\n",
      " |-- album_id: string (nullable = true)\n",
      " |-- external_urls_albums: string (nullable = true)\n",
      " |-- album_name: string (nullable = true)\n",
      " |-- image_album: string (nullable = true)\n",
      "\n",
      "albums_DataFrame Schema  None\n",
      "root\n",
      " |-- artist_id: string (nullable = true)\n",
      " |-- artist: string (nullable = true)\n",
      " |-- genre: string (nullable = true)\n",
      "\n",
      "artists_genres_DataFrame Schema  None\n",
      "root\n",
      " |-- acousticness: double (nullable = true)\n",
      " |-- artist: string (nullable = true)\n",
      " |-- danceability: double (nullable = true)\n",
      " |-- duration_ms: long (nullable = true)\n",
      " |-- energy: double (nullable = true)\n",
      " |-- explicit: string (nullable = true)\n",
      " |-- genre: string (nullable = true)\n",
      " |-- instrumentalness: double (nullable = true)\n",
      " |-- key: integer (nullable = true)\n",
      " |-- liveness: double (nullable = true)\n",
      " |-- loudness: double (nullable = true)\n",
      " |-- mode: integer (nullable = true)\n",
      " |-- popularity: integer (nullable = true)\n",
      " |-- speechiness: double (nullable = true)\n",
      " |-- valence: double (nullable = true)\n",
      " |-- tempo: double (nullable = true)\n",
      " |-- year: integer (nullable = true)\n",
      " |-- track: string (nullable = true)\n",
      "\n",
      "feature_music_df_DataFrame Schema  None\n",
      "root\n",
      " |-- artist_id: string (nullable = true)\n",
      " |-- album_id: string (nullable = true)\n",
      " |-- disc_number: integer (nullable = true)\n",
      " |-- duration_ms: long (nullable = true)\n",
      " |-- explicit: string (nullable = true)\n",
      " |-- id: string (nullable = true)\n",
      " |-- is_local: boolean (nullable = true)\n",
      " |-- name: string (nullable = true)\n",
      " |-- popularity: integer (nullable = true)\n",
      " |-- preview_url: string (nullable = true)\n",
      " |-- track_number: integer (nullable = true)\n",
      " |-- type: string (nullable = true)\n",
      " |-- uri: string (nullable = true)\n",
      " |-- track_id: string (nullable = true)\n",
      " |-- external_urls_tracks: string (nullable = true)\n",
      "\n",
      "tracks_df_DataFrame Schema  None\n"
     ]
    }
   ],
   "source": [
    "print(\"artists_DataFrame Schema \", artists_df.printSchema())\n",
    "print(\"albums_DataFrame Schema \", albums_df.printSchema())\n",
    "print(\"artists_genres_DataFrame Schema \", artists_genres_df.printSchema())\n",
    "print(\"feature_music_df_DataFrame Schema \", feature_music_df.printSchema())\n",
    "print(\"tracks_df_DataFrame Schema \", tracks_df.printSchema())\n"
   ]
  },
  {
   "cell_type": "code",
   "execution_count": 48,
   "id": "542f720c-f563-443b-80bc-8d72ec41d4eb",
   "metadata": {},
   "outputs": [],
   "source": [
    "from pyspark.sql.functions import collect_set, concat_ws\n",
    "\n",
    "tracks_df = spark.read.parquet(\"hdfs://namenode:8020/silver_layer/tracks_data.parquet\")\n",
    "albums_df = spark.read.parquet(\"hdfs://namenode:8020/silver_layer/silver_album.parquet\")\n",
    "artists_df = spark.read.parquet(\"hdfs://namenode:8020/silver_layer/silver_artists.parquet\")\n",
    "artists_genres_df = spark.read.parquet(\"hdfs://namenode:8020/silver_layer/silver_artists_genres.parquet\")\n",
    "\n",
    "# Rename schema\n",
    "artists_df = artists_df.selectExpr(\n",
    "    \"artist_id\", \n",
    "    \"id as artist_spotify_id\", \n",
    "    \"name as artist_name\", \n",
    "    \"popularity as popularity_artist\", \n",
    "    \"type as type_artist\", \n",
    "    \"uri as uri_artist\", \n",
    "    \"external_urls_artists\", \n",
    "    \"`followers number`\", \n",
    "    \"images_artists\"\n",
    ")\n",
    "\n",
    "albums_df = albums_df.selectExpr(\n",
    "    \"album_id\", \n",
    "    \"artist_id as album_artists_id\", \n",
    "    \"id as album_spotify_id\", \n",
    "    \"album_name\", \n",
    "    \"album_type\", \n",
    "    \"release_date\", \n",
    "    \"label\", \n",
    "    \"popularity as popularity_album\", \n",
    "    \"image_album\", \n",
    "    \"external_urls_albums\"\n",
    ")\n",
    "\n",
    "tracks_df = tracks_df.selectExpr(\n",
    "    \"track_id\", \n",
    "    \"album_id as track_album_id\", \n",
    "    \"artist_id as track_artist_id\", \n",
    "    \"name as track_name\", \n",
    "    \"duration_ms\", \n",
    "    \"explicit\", \n",
    "    \"external_urls_tracks\"\n",
    ")\n",
    "\n",
    "artists_genres_df = artists_genres_df.selectExpr(\n",
    "    \"artist_id as artist_genres_id\", \n",
    "    \"genre\"\n",
    ")\n",
    "\n",
    "artists_genres_df = artists_genres_df.groupBy(\"artist_genres_id\") \\\n",
    "                                     .agg(concat_ws(\", \", collect_set(\"genre\")).alias(\"genres\"))\n",
    "# JOINs\n",
    "df = (\n",
    "    tracks_df\n",
    "    .join(albums_df, tracks_df.track_album_id == albums_df.album_id, how=\"inner\")\n",
    "    .join(artists_df, tracks_df.track_artist_id == artists_df.artist_id, how=\"inner\")\n",
    "    .join(artists_genres_df, tracks_df.track_artist_id == artists_genres_df.artist_genres_id, how=\"inner\")\n",
    ")\n",
    "\n",
    "# Select columns để xuất ra Gold Layer\n",
    "df = df.select(\n",
    "    \"track_id\", \"track_name\", \"external_urls_tracks\",\n",
    "    \"track_artist_id\", \"artist_name\", \"`followers number`\", \"images_artists\", \"external_urls_artists\",\n",
    "    \"track_album_id\", \"album_name\", \"release_date\", \"image_album\", \"external_urls_albums\",\n",
    "    \"duration_ms\", \"explicit\", \"genres\"\n",
    ")"
   ]
  },
  {
   "cell_type": "code",
   "execution_count": 49,
   "id": "6e069825-e2fe-4e1c-989e-26ddbca0ed7b",
   "metadata": {},
   "outputs": [
    {
     "data": {
      "text/plain": [
       "304177"
      ]
     },
     "execution_count": 49,
     "metadata": {},
     "output_type": "execute_result"
    }
   ],
   "source": [
    "df.count()"
   ]
  },
  {
   "cell_type": "code",
   "execution_count": 50,
   "id": "78f86e69-91d1-4785-bfd9-d847218217d4",
   "metadata": {},
   "outputs": [
    {
     "data": {
      "text/html": [
       "<div>\n",
       "<style scoped>\n",
       "    .dataframe tbody tr th:only-of-type {\n",
       "        vertical-align: middle;\n",
       "    }\n",
       "\n",
       "    .dataframe tbody tr th {\n",
       "        vertical-align: top;\n",
       "    }\n",
       "\n",
       "    .dataframe thead th {\n",
       "        text-align: right;\n",
       "    }\n",
       "</style>\n",
       "<table border=\"1\" class=\"dataframe\">\n",
       "  <thead>\n",
       "    <tr style=\"text-align: right;\">\n",
       "      <th></th>\n",
       "      <th>track_id</th>\n",
       "      <th>track_name</th>\n",
       "      <th>external_urls_tracks</th>\n",
       "      <th>track_artist_id</th>\n",
       "      <th>artist_name</th>\n",
       "      <th>followers number</th>\n",
       "      <th>images_artists</th>\n",
       "      <th>external_urls_artists</th>\n",
       "      <th>track_album_id</th>\n",
       "      <th>album_name</th>\n",
       "      <th>release_date</th>\n",
       "      <th>image_album</th>\n",
       "      <th>external_urls_albums</th>\n",
       "      <th>duration_ms</th>\n",
       "      <th>explicit</th>\n",
       "      <th>genres</th>\n",
       "    </tr>\n",
       "  </thead>\n",
       "  <tbody>\n",
       "    <tr>\n",
       "      <th>0</th>\n",
       "      <td>000KKisPBgKkWwRSxIzsnE</td>\n",
       "      <td>Beat of the Music</td>\n",
       "      <td>https://open.spotify.com/track/000KKisPBgKkWwR...</td>\n",
       "      <td>0qSX3s5pJnAlSsgsCne8Cz</td>\n",
       "      <td>Brett Eldredge</td>\n",
       "      <td>1484950</td>\n",
       "      <td>https://i.scdn.co/image/ab6761610000e5ebcb0906...</td>\n",
       "      <td>https://open.spotify.com/artist/0qSX3s5pJnAlSs...</td>\n",
       "      <td>6bn1TML338LShzJsuhxbj5</td>\n",
       "      <td>Bring You Back (10-Year Anniversary Edition)</td>\n",
       "      <td>2023-08-17</td>\n",
       "      <td>https://i.scdn.co/image/ab67616d0000b273c8ae31...</td>\n",
       "      <td>https://open.spotify.com/album/6bn1TML338LShzJ...</td>\n",
       "      <td>179826</td>\n",
       "      <td>false</td>\n",
       "      <td>country, christmas</td>\n",
       "    </tr>\n",
       "    <tr>\n",
       "      <th>1</th>\n",
       "      <td>000V86A5s6gAGp73ucRnmD</td>\n",
       "      <td>Sunny (feat. Connor Price)</td>\n",
       "      <td>https://open.spotify.com/track/000V86A5s6gAGp7...</td>\n",
       "      <td>54R6Y0I7jGUCveDTtI21nb</td>\n",
       "      <td>Boney M.</td>\n",
       "      <td>2190336</td>\n",
       "      <td>https://i.scdn.co/image/94f8fa49e6ac6748393ff0...</td>\n",
       "      <td>https://open.spotify.com/artist/54R6Y0I7jGUCve...</td>\n",
       "      <td>2B780cgk4dXO3GK2l9NBnn</td>\n",
       "      <td>Sunny (feat. Connor Price)</td>\n",
       "      <td>2023-04-14</td>\n",
       "      <td>https://i.scdn.co/image/ab67616d0000b27397e450...</td>\n",
       "      <td>https://open.spotify.com/album/2B780cgk4dXO3GK...</td>\n",
       "      <td>192434</td>\n",
       "      <td>false</td>\n",
       "      <td>disco</td>\n",
       "    </tr>\n",
       "    <tr>\n",
       "      <th>2</th>\n",
       "      <td>001KDkkQqFsi5UnlntI63c</td>\n",
       "      <td>Deixa Acontecer / Brilho de Cristal / Toda Noi...</td>\n",
       "      <td>https://open.spotify.com/track/001KDkkQqFsi5Un...</td>\n",
       "      <td>6vTqEFbTtTRJsuIpzZgjxi</td>\n",
       "      <td>Grupo Menos É Mais</td>\n",
       "      <td>4639139</td>\n",
       "      <td>https://i.scdn.co/image/ab6761610000e5ebc054c6...</td>\n",
       "      <td>https://open.spotify.com/artist/6vTqEFbTtTRJsu...</td>\n",
       "      <td>4yw62KXxwjJT0wQMnLDGoi</td>\n",
       "      <td>Ao Vivo No Buteco</td>\n",
       "      <td>2019-03-29</td>\n",
       "      <td>https://i.scdn.co/image/ab67616d0000b2736cbba7...</td>\n",
       "      <td>https://open.spotify.com/album/4yw62KXxwjJT0wQ...</td>\n",
       "      <td>277259</td>\n",
       "      <td>false</td>\n",
       "      <td>samba, pagode</td>\n",
       "    </tr>\n",
       "    <tr>\n",
       "      <th>3</th>\n",
       "      <td>001UkMQHw4zXfFNdKpwXAF</td>\n",
       "      <td>Brand New Man - with Luke Combs</td>\n",
       "      <td>https://open.spotify.com/track/001UkMQHw4zXfFN...</td>\n",
       "      <td>0XKOBt59crntr7HQXXO8Yz</td>\n",
       "      <td>Brooks &amp; Dunn</td>\n",
       "      <td>3147859</td>\n",
       "      <td>https://i.scdn.co/image/ab6761610000e5eb3ef457...</td>\n",
       "      <td>https://open.spotify.com/artist/0XKOBt59crntr7...</td>\n",
       "      <td>0U3nI78LUpAwprraUf7vAS</td>\n",
       "      <td>Reboot</td>\n",
       "      <td>2019-04-05</td>\n",
       "      <td>https://i.scdn.co/image/ab67616d0000b27304b298...</td>\n",
       "      <td>https://open.spotify.com/album/0U3nI78LUpAwprr...</td>\n",
       "      <td>191053</td>\n",
       "      <td>false</td>\n",
       "      <td>acoustic country, country</td>\n",
       "    </tr>\n",
       "    <tr>\n",
       "      <th>4</th>\n",
       "      <td>004SquvWQJVJh5IC8KdQJn</td>\n",
       "      <td>I Luv This Shit</td>\n",
       "      <td>https://open.spotify.com/track/004SquvWQJVJh5I...</td>\n",
       "      <td>19Fi1Rj7kk8kyiwxpXy3yM</td>\n",
       "      <td>August Alsina</td>\n",
       "      <td>2729803</td>\n",
       "      <td>https://i.scdn.co/image/ab6761610000e5eb45ffc8...</td>\n",
       "      <td>https://open.spotify.com/artist/19Fi1Rj7kk8kyi...</td>\n",
       "      <td>3FHEN0yaab8BxVHXHyaYkk</td>\n",
       "      <td>Testimony (Deluxe)</td>\n",
       "      <td>2014-01-01</td>\n",
       "      <td>https://i.scdn.co/image/ab67616d0000b273a13175...</td>\n",
       "      <td>https://open.spotify.com/album/3FHEN0yaab8BxVH...</td>\n",
       "      <td>267093</td>\n",
       "      <td>true</td>\n",
       "      <td>r&amp;b</td>\n",
       "    </tr>\n",
       "  </tbody>\n",
       "</table>\n",
       "</div>"
      ],
      "text/plain": [
       "                 track_id                                         track_name  \\\n",
       "0  000KKisPBgKkWwRSxIzsnE                                  Beat of the Music   \n",
       "1  000V86A5s6gAGp73ucRnmD                         Sunny (feat. Connor Price)   \n",
       "2  001KDkkQqFsi5UnlntI63c  Deixa Acontecer / Brilho de Cristal / Toda Noi...   \n",
       "3  001UkMQHw4zXfFNdKpwXAF                    Brand New Man - with Luke Combs   \n",
       "4  004SquvWQJVJh5IC8KdQJn                                    I Luv This Shit   \n",
       "\n",
       "                                external_urls_tracks         track_artist_id  \\\n",
       "0  https://open.spotify.com/track/000KKisPBgKkWwR...  0qSX3s5pJnAlSsgsCne8Cz   \n",
       "1  https://open.spotify.com/track/000V86A5s6gAGp7...  54R6Y0I7jGUCveDTtI21nb   \n",
       "2  https://open.spotify.com/track/001KDkkQqFsi5Un...  6vTqEFbTtTRJsuIpzZgjxi   \n",
       "3  https://open.spotify.com/track/001UkMQHw4zXfFN...  0XKOBt59crntr7HQXXO8Yz   \n",
       "4  https://open.spotify.com/track/004SquvWQJVJh5I...  19Fi1Rj7kk8kyiwxpXy3yM   \n",
       "\n",
       "          artist_name  followers number  \\\n",
       "0      Brett Eldredge           1484950   \n",
       "1            Boney M.           2190336   \n",
       "2  Grupo Menos É Mais           4639139   \n",
       "3       Brooks & Dunn           3147859   \n",
       "4       August Alsina           2729803   \n",
       "\n",
       "                                      images_artists  \\\n",
       "0  https://i.scdn.co/image/ab6761610000e5ebcb0906...   \n",
       "1  https://i.scdn.co/image/94f8fa49e6ac6748393ff0...   \n",
       "2  https://i.scdn.co/image/ab6761610000e5ebc054c6...   \n",
       "3  https://i.scdn.co/image/ab6761610000e5eb3ef457...   \n",
       "4  https://i.scdn.co/image/ab6761610000e5eb45ffc8...   \n",
       "\n",
       "                               external_urls_artists          track_album_id  \\\n",
       "0  https://open.spotify.com/artist/0qSX3s5pJnAlSs...  6bn1TML338LShzJsuhxbj5   \n",
       "1  https://open.spotify.com/artist/54R6Y0I7jGUCve...  2B780cgk4dXO3GK2l9NBnn   \n",
       "2  https://open.spotify.com/artist/6vTqEFbTtTRJsu...  4yw62KXxwjJT0wQMnLDGoi   \n",
       "3  https://open.spotify.com/artist/0XKOBt59crntr7...  0U3nI78LUpAwprraUf7vAS   \n",
       "4  https://open.spotify.com/artist/19Fi1Rj7kk8kyi...  3FHEN0yaab8BxVHXHyaYkk   \n",
       "\n",
       "                                     album_name release_date  \\\n",
       "0  Bring You Back (10-Year Anniversary Edition)   2023-08-17   \n",
       "1                    Sunny (feat. Connor Price)   2023-04-14   \n",
       "2                             Ao Vivo No Buteco   2019-03-29   \n",
       "3                                        Reboot   2019-04-05   \n",
       "4                            Testimony (Deluxe)   2014-01-01   \n",
       "\n",
       "                                         image_album  \\\n",
       "0  https://i.scdn.co/image/ab67616d0000b273c8ae31...   \n",
       "1  https://i.scdn.co/image/ab67616d0000b27397e450...   \n",
       "2  https://i.scdn.co/image/ab67616d0000b2736cbba7...   \n",
       "3  https://i.scdn.co/image/ab67616d0000b27304b298...   \n",
       "4  https://i.scdn.co/image/ab67616d0000b273a13175...   \n",
       "\n",
       "                                external_urls_albums  duration_ms explicit  \\\n",
       "0  https://open.spotify.com/album/6bn1TML338LShzJ...       179826    false   \n",
       "1  https://open.spotify.com/album/2B780cgk4dXO3GK...       192434    false   \n",
       "2  https://open.spotify.com/album/4yw62KXxwjJT0wQ...       277259    false   \n",
       "3  https://open.spotify.com/album/0U3nI78LUpAwprr...       191053    false   \n",
       "4  https://open.spotify.com/album/3FHEN0yaab8BxVH...       267093     true   \n",
       "\n",
       "                      genres  \n",
       "0         country, christmas  \n",
       "1                      disco  \n",
       "2              samba, pagode  \n",
       "3  acoustic country, country  \n",
       "4                        r&b  "
      ]
     },
     "execution_count": 50,
     "metadata": {},
     "output_type": "execute_result"
    }
   ],
   "source": [
    "sample_df = df.limit(1000).toPandas()\n",
    "sample_df.head()\n"
   ]
  },
  {
   "cell_type": "code",
   "execution_count": 31,
   "id": "3aad333f-e61d-409a-9021-44188500600f",
   "metadata": {},
   "outputs": [
    {
     "name": "stdout",
     "output_type": "stream",
     "text": [
      "root\n",
      " |-- acousticness: double (nullable = true)\n",
      " |-- artist: string (nullable = true)\n",
      " |-- danceability: double (nullable = true)\n",
      " |-- duration_ms: long (nullable = true)\n",
      " |-- energy: double (nullable = true)\n",
      " |-- explicit: string (nullable = true)\n",
      " |-- genre: string (nullable = true)\n",
      " |-- instrumentalness: double (nullable = true)\n",
      " |-- key: integer (nullable = true)\n",
      " |-- liveness: double (nullable = true)\n",
      " |-- loudness: double (nullable = true)\n",
      " |-- mode: integer (nullable = true)\n",
      " |-- popularity: integer (nullable = true)\n",
      " |-- song: string (nullable = true)\n",
      " |-- speechiness: double (nullable = true)\n",
      " |-- valence: double (nullable = true)\n",
      " |-- tempo: double (nullable = true)\n",
      " |-- year: integer (nullable = true)\n",
      " |-- track: string (nullable = true)\n",
      "\n"
     ]
    }
   ],
   "source": [
    "feature_music_df.printSchema()"
   ]
  },
  {
   "cell_type": "code",
   "execution_count": 52,
   "id": "ed9e6031-9d03-456d-bcd0-a24671ec0f3d",
   "metadata": {},
   "outputs": [
    {
     "name": "stdout",
     "output_type": "stream",
     "text": [
      "+--------------------+------------+------+--------+-----------+------------+----------------+--------+-------+-------+-----------+\n",
      "|            track_id|danceability|energy|loudness|speechiness|acousticness|instrumentalness|liveness|valence|  tempo|duration_ms|\n",
      "+--------------------+------------+------+--------+-----------+------------+----------------+--------+-------+-------+-----------+\n",
      "|0W4NhJhcqKCqEP2GI...|       0.688| 0.519|  -4.285|     0.0283|       0.064|             0.0|     0.1|  0.318|116.714|     255333|\n",
      "|0iGR60UzkFoyAZ1uN...|       0.495| 0.894|  -4.814|     0.0441|     0.00453|         5.96E-4|   0.103|  0.213| 126.03|     239894|\n",
      "|0qcjuYtMWhBjXg0Xw...|        0.94| 0.633|   -3.56|     0.0467|      0.0581|         4.04E-5|   0.281|  0.962|121.003|     248680|\n",
      "|232puZVLpayvhEMel...|       0.729| 0.675|  -6.003|     0.0312|       0.175|         1.58E-6|    0.55|  0.779|119.968|     245866|\n",
      "|2aibwv5hGXSgw7Yru...|       0.427|   0.9|  -3.674|     0.0499|       0.116|         1.75E-5|   0.119|  0.599|104.655|     334666|\n",
      "+--------------------+------------+------+--------+-----------+------------+----------------+--------+-------+-------+-----------+\n",
      "only showing top 5 rows\n",
      "\n"
     ]
    }
   ],
   "source": [
    "feature_path = \"hdfs://namenode:8020/silver_layer/silver_feature_music.parquet\"\n",
    "tracks_path = \"hdfs://namenode:8020/silver_layer/tracks_data.parquet\"\n",
    "output_path = \"hdfs://namenode:8020/gold_layer/gold_feature_matrix.parquet\"\n",
    "\n",
    "features_df = spark.read.parquet(feature_path).withColumnRenamed(\"track\", \"track_name\")\n",
    "\n",
    "tracks_df = spark.read.parquet(tracks_path).selectExpr(\n",
    "    \"track_id\", \"name as track_name\", \"artist_id as track_artist_id\"\n",
    ")\n",
    "\n",
    "artists_df = spark.read.parquet(\"hdfs://namenode:8020/silver_layer/silver_artists.parquet\").selectExpr(\n",
    "    \"artist_id\", \"name as artist_name\"\n",
    ")\n",
    "\n",
    "tracks_joined = tracks_df.join(\n",
    "    artists_df,\n",
    "    tracks_df[\"track_artist_id\"] == artists_df[\"artist_id\"],\n",
    "    how=\"left\"\n",
    ").select(\"track_id\", \"track_name\", \"artist_name\")\n",
    "\n",
    "df_joined = features_df.join(\n",
    "    tracks_joined,\n",
    "    on=(features_df[\"track_name\"] == tracks_joined[\"track_name\"]) &\n",
    "       (features_df[\"artist\"] == tracks_joined[\"artist_name\"]),\n",
    "    how=\"inner\"\n",
    ")\n",
    "\n",
    "feature_cols = ['track_id', 'danceability', 'energy', 'loudness', 'speechiness',\n",
    "                'acousticness', 'instrumentalness', 'liveness', 'valence',\n",
    "                'tempo', 'duration_ms']\n",
    "\n",
    "final_df = df_joined.select(feature_cols).dropDuplicates([\"track_id\"])\n",
    "\n",
    "final_df.write.mode(\"overwrite\").parquet(output_path)\n",
    "\n",
    "final_df.show(5)\n"
   ]
  },
  {
   "cell_type": "code",
   "execution_count": 55,
   "id": "55f3a7c7-8aea-4396-8550-56e4339be1d6",
   "metadata": {},
   "outputs": [
    {
     "data": {
      "text/plain": [
       "3981"
      ]
     },
     "execution_count": 55,
     "metadata": {},
     "output_type": "execute_result"
    }
   ],
   "source": [
    "final_df.select(\"track_id\").distinct().count()"
   ]
  },
  {
   "cell_type": "code",
   "execution_count": 33,
   "id": "e890c3d7-a76e-433a-a42e-950bc57a5c95",
   "metadata": {},
   "outputs": [],
   "source": [
    "#gold_track_search_index\n",
    "track_meta = spark.read.parquet(\"hdfs://namenode:8020/gold_layer/gold_track_metadata.parquet\")\n",
    "feature = spark.read.parquet(\"hdfs://namenode:8020/gold_layer/gold_feature_matrix.parquet\")\n",
    "\n",
    "search_index = (\n",
    "    track_meta\n",
    "    .join(feature, \"track_id\")\n",
    "    .select(\"track_id\", \"track_name\", \"name\", \"album_name\", \"release_date\", \"genre\", \"danceability\", \"energy\", \"valence\")\n",
    ")\n",
    "\n",
    "search_index.write.mode(\"overwrite\").parquet(\"hdfs://namenode:8020/gold_layer/gold_track_search_index.parquet\")\n"
   ]
  }
 ],
 "metadata": {
  "kernelspec": {
   "display_name": "Python 3 (ipykernel)",
   "language": "python",
   "name": "python3"
  },
  "language_info": {
   "codemirror_mode": {
    "name": "ipython",
    "version": 3
   },
   "file_extension": ".py",
   "mimetype": "text/x-python",
   "name": "python",
   "nbconvert_exporter": "python",
   "pygments_lexer": "ipython3",
   "version": "3.11.6"
  }
 },
 "nbformat": 4,
 "nbformat_minor": 5
}
