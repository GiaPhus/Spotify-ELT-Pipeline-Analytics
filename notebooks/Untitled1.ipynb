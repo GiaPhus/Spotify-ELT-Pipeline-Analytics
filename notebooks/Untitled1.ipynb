{
 "cells": [
  {
   "cell_type": "code",
   "execution_count": 1,
   "id": "1abd1504-3289-4361-bee9-bb60f37ea4ec",
   "metadata": {},
   "outputs": [],
   "source": [
    "from pyspark.sql import SparkSession\n",
    "from pyspark.sql.functions import col,explode\n",
    "from pyspark.sql.functions import regexp_replace\n",
    "from pyspark.sql.types import StringType\n",
    "from pyspark.sql.functions import split, explode, trim\n",
    "\n",
    "\n",
    "\n",
    "\n"
   ]
  },
  {
   "cell_type": "code",
   "execution_count": 6,
   "id": "86c7f071-eaa2-4fb4-aefd-b8963ad5b84d",
   "metadata": {},
   "outputs": [],
   "source": [
    "album_uri = \"hdfs://namenode:8020/silver_layer/silver_album.parquet\"\n",
    "artist_uri = \"hdfs://namenode:8020/silver_layer/silver_artists.parquet\"\n",
    "track_uri =  \"hdfs://namenode:8020/silver_layer/tracks_data.parquet\"\n",
    "feature_uri = \"hdfs://namenode:8020/silver_layer/silver_feature_music.parquet\"\n",
    "genre_uri = \"hdfs://namenode:8020/silver_layer/silver_artists_genres.parquet\"\n",
    "spark = SparkSession.builder.appName(\"Check Genres\").getOrCreate()"
   ]
  },
  {
   "cell_type": "code",
   "execution_count": 7,
   "id": "e7986dbe-8531-4db8-91ce-21c976e1813e",
   "metadata": {},
   "outputs": [],
   "source": [
    "df_genres = spark.read.parquet(genre_uri)\n",
    "df_feature = spark.read.parquet(feature_uri)\n",
    "df_track = spark.read.parquet(track_uri)\n",
    "df_artist = spark.read.parquet(artist_uri)\n",
    "df_album = spark.read.parquet(album_uri)"
   ]
  },
  {
   "cell_type": "code",
   "execution_count": 8,
   "id": "4bb698ca-174a-4e1a-b98a-c40171034e1f",
   "metadata": {},
   "outputs": [
    {
     "name": "stdout",
     "output_type": "stream",
     "text": [
      "root\n",
      " |-- artist_id: string (nullable = true)\n",
      " |-- name: string (nullable = true)\n",
      " |-- artists_genres: string (nullable = true)\n",
      "\n",
      "root\n",
      " |-- track_id: string (nullable = true)\n",
      " |-- artists: string (nullable = true)\n",
      " |-- album_name: string (nullable = true)\n",
      " |-- track_name: string (nullable = true)\n",
      " |-- acousticness: double (nullable = true)\n",
      " |-- danceability: double (nullable = true)\n",
      " |-- duration_ms: long (nullable = true)\n",
      " |-- energy: double (nullable = true)\n",
      " |-- explicit: string (nullable = true)\n",
      " |-- instrumentalness: double (nullable = true)\n",
      " |-- key: integer (nullable = true)\n",
      " |-- liveness: double (nullable = true)\n",
      " |-- loudness: double (nullable = true)\n",
      " |-- mode: integer (nullable = true)\n",
      " |-- popularity: integer (nullable = true)\n",
      " |-- speechiness: double (nullable = true)\n",
      " |-- valence: double (nullable = true)\n",
      " |-- tempo: double (nullable = true)\n",
      " |-- time_signature: integer (nullable = true)\n",
      " |-- track_genre: string (nullable = true)\n",
      "\n",
      "root\n",
      " |-- artist_id: string (nullable = true)\n",
      " |-- album_id: string (nullable = true)\n",
      " |-- disc_number: integer (nullable = true)\n",
      " |-- duration_ms: long (nullable = true)\n",
      " |-- explicit: string (nullable = true)\n",
      " |-- id: string (nullable = true)\n",
      " |-- is_local: boolean (nullable = true)\n",
      " |-- name: string (nullable = true)\n",
      " |-- popularity: integer (nullable = true)\n",
      " |-- preview_url: string (nullable = true)\n",
      " |-- track_number: integer (nullable = true)\n",
      " |-- type: string (nullable = true)\n",
      " |-- uri: string (nullable = true)\n",
      " |-- track_id: string (nullable = true)\n",
      " |-- external_urls_tracks: string (nullable = true)\n",
      "\n",
      "root\n",
      " |-- id: string (nullable = true)\n",
      " |-- name: string (nullable = true)\n",
      " |-- popularity: integer (nullable = true)\n",
      " |-- type: string (nullable = true)\n",
      " |-- uri: string (nullable = true)\n",
      " |-- artist_id: string (nullable = true)\n",
      " |-- external_urls_artists: string (nullable = true)\n",
      " |-- followers number: integer (nullable = true)\n",
      " |-- images_artists: string (nullable = true)\n",
      "\n",
      "root\n",
      " |-- album_type: string (nullable = true)\n",
      " |-- artist_id: string (nullable = true)\n",
      " |-- id: string (nullable = true)\n",
      " |-- label: string (nullable = true)\n",
      " |-- popularity: integer (nullable = true)\n",
      " |-- release_date: string (nullable = true)\n",
      " |-- release_date_precision: string (nullable = true)\n",
      " |-- total_tracks: integer (nullable = true)\n",
      " |-- type: string (nullable = true)\n",
      " |-- uri: string (nullable = true)\n",
      " |-- album_id: string (nullable = true)\n",
      " |-- external_urls_albums: string (nullable = true)\n",
      " |-- album_name: string (nullable = true)\n",
      " |-- image_album: string (nullable = true)\n",
      "\n"
     ]
    }
   ],
   "source": [
    "df_genres.printSchema()\n",
    "df_feature.printSchema()\n",
    "df_track.printSchema()\n",
    "df_artist.printSchema()\n",
    "df_album.printSchema()\n"
   ]
  },
  {
   "cell_type": "code",
   "execution_count": null,
   "id": "f2bd052a-eefb-4f30-96b2-582c7d72122f",
   "metadata": {},
   "outputs": [],
   "source": []
  }
 ],
 "metadata": {
  "kernelspec": {
   "display_name": "Python 3 (ipykernel)",
   "language": "python",
   "name": "python3"
  },
  "language_info": {
   "codemirror_mode": {
    "name": "ipython",
    "version": 3
   },
   "file_extension": ".py",
   "mimetype": "text/x-python",
   "name": "python",
   "nbconvert_exporter": "python",
   "pygments_lexer": "ipython3",
   "version": "3.11.6"
  }
 },
 "nbformat": 4,
 "nbformat_minor": 5
}
