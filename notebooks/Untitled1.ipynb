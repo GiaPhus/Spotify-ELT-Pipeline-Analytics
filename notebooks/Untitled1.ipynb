{
 "cells": [
  {
   "cell_type": "code",
   "execution_count": 1,
   "id": "cd47a8b7-3069-4713-b93a-7af0c41c11b1",
   "metadata": {},
   "outputs": [],
   "source": [
    "from pyspark.sql import SparkSession\n",
    "from pyspark.sql.functions import col,explode\n",
    "from pyspark.sql.functions import regexp_replace\n",
    "from pyspark.sql.types import StringType\n",
    "from pyspark.sql.functions import split, explode, trim\n",
    "\n"
   ]
  },
  {
   "cell_type": "code",
   "execution_count": 2,
   "id": "413e4208-e4c5-4156-b4ba-d691768bfcaf",
   "metadata": {},
   "outputs": [],
   "source": [
    "track_metadata = \"hdfs://namenode:8020/gold_layer/gold_track_metadata.parquet\"\n",
    "feature_data =  \"hdfs://namenode:8020/gold_layer/gold_feature_matrix.parquet\"\n",
    "spark = SparkSession.builder.appName(\"Build Recommendation\").getOrCreate()"
   ]
  },
  {
   "cell_type": "code",
   "execution_count": 4,
   "id": "62340e00-d282-4c66-8f36-82c7f06597e7",
   "metadata": {},
   "outputs": [],
   "source": [
    "df_track_metadata = spark.read.parquet(track_metadata)\n",
    "df_feature_data = spark.read.parquet(feature_data)"
   ]
  },
  {
   "cell_type": "code",
   "execution_count": 6,
   "id": "59bb10a2-7892-4b24-975c-af4c8db98e09",
   "metadata": {},
   "outputs": [
    {
     "name": "stdout",
     "output_type": "stream",
     "text": [
      "root\n",
      " |-- track_id: string (nullable = true)\n",
      " |-- track_name: string (nullable = true)\n",
      " |-- external_urls_tracks: string (nullable = true)\n",
      " |-- track_artist_id: string (nullable = true)\n",
      " |-- artist_name: string (nullable = true)\n",
      " |-- followers number: integer (nullable = true)\n",
      " |-- images_artists: string (nullable = true)\n",
      " |-- external_urls_artists: string (nullable = true)\n",
      " |-- track_album_id: string (nullable = true)\n",
      " |-- album_name: string (nullable = true)\n",
      " |-- release_date: string (nullable = true)\n",
      " |-- image_album: string (nullable = true)\n",
      " |-- external_urls_albums: string (nullable = true)\n",
      " |-- duration_ms: long (nullable = true)\n",
      " |-- explicit: string (nullable = true)\n",
      " |-- genres: string (nullable = true)\n",
      "\n",
      "root\n",
      " |-- track_id: string (nullable = true)\n",
      " |-- danceability: double (nullable = true)\n",
      " |-- energy: double (nullable = true)\n",
      " |-- loudness: double (nullable = true)\n",
      " |-- speechiness: double (nullable = true)\n",
      " |-- acousticness: double (nullable = true)\n",
      " |-- instrumentalness: double (nullable = true)\n",
      " |-- liveness: double (nullable = true)\n",
      " |-- valence: double (nullable = true)\n",
      " |-- tempo: double (nullable = true)\n",
      " |-- duration_ms: long (nullable = true)\n",
      "\n"
     ]
    }
   ],
   "source": [
    "df_track_metadata.printSchema()\n",
    "df_feature_data.printSchema()"
   ]
  },
  {
   "cell_type": "code",
   "execution_count": 7,
   "id": "8324354c-356f-4c3d-bbfe-8d8d81635843",
   "metadata": {},
   "outputs": [],
   "source": [
    "df_track_metadata.write.option(\"header\", True).mode(\"overwrite\").csv(\"track_metadata\")\n",
    "\n",
    "# Save features\n",
    "df_feature_data.write.option(\"header\", True).mode(\"overwrite\").csv(\"track_features\")"
   ]
  },
  {
   "cell_type": "code",
   "execution_count": 8,
   "id": "f6f87201-6238-42e1-a51a-128163b58ab5",
   "metadata": {},
   "outputs": [],
   "source": [
    "!cat track_metadata/part-*.csv > track_metadata.csv\n",
    "!cat track_features/part-*.csv > track_features.csv"
   ]
  },
  {
   "cell_type": "code",
   "execution_count": null,
   "id": "cf785795-1a0e-49f8-bdc2-932e587eccca",
   "metadata": {},
   "outputs": [],
   "source": []
  }
 ],
 "metadata": {
  "kernelspec": {
   "display_name": "Python 3 (ipykernel)",
   "language": "python",
   "name": "python3"
  },
  "language_info": {
   "codemirror_mode": {
    "name": "ipython",
    "version": 3
   },
   "file_extension": ".py",
   "mimetype": "text/x-python",
   "name": "python",
   "nbconvert_exporter": "python",
   "pygments_lexer": "ipython3",
   "version": "3.11.6"
  }
 },
 "nbformat": 4,
 "nbformat_minor": 5
}
